{
 "cells": [
  {
   "cell_type": "code",
   "execution_count": 1,
   "id": "86dda751",
   "metadata": {
    "_cell_guid": "b1076dfc-b9ad-4769-8c92-a6c4dae69d19",
    "_uuid": "8f2839f25d086af736a60e9eeb907d3b93b6e0e5",
    "execution": {
     "iopub.execute_input": "2022-11-30T05:28:51.710536Z",
     "iopub.status.busy": "2022-11-30T05:28:51.708962Z",
     "iopub.status.idle": "2022-11-30T05:28:51.727355Z",
     "shell.execute_reply": "2022-11-30T05:28:51.725733Z"
    },
    "papermill": {
     "duration": 0.047807,
     "end_time": "2022-11-30T05:28:51.731457",
     "exception": false,
     "start_time": "2022-11-30T05:28:51.683650",
     "status": "completed"
    },
    "tags": []
   },
   "outputs": [
    {
     "name": "stdout",
     "output_type": "stream",
     "text": [
      "/kaggle/input/marketing-strategy-personalised-offer/sample.csv\n",
      "/kaggle/input/marketing-strategy-personalised-offer/train_data.csv\n",
      "/kaggle/input/marketing-strategy-personalised-offer/test_data.csv\n"
     ]
    }
   ],
   "source": [
    "# This Python 3 environment comes with many helpful analytics libraries installed\n",
    "# It is defined by the kaggle/python Docker image: https://github.com/kaggle/docker-python\n",
    "# For example, here's several helpful packages to load\n",
    "\n",
    "import numpy as np # linear algebra\n",
    "import pandas as pd # data processing, CSV file I/O (e.g. pd.read_csv)\n",
    "\n",
    "# Input data files are available in the read-only \"../input/\" directory\n",
    "# For example, running this (by clicking run or pressing Shift+Enter) will list all files under the input directory\n",
    "\n",
    "import os\n",
    "for dirname, _, filenames in os.walk('/kaggle/input'):\n",
    "    for filename in filenames:\n",
    "        print(os.path.join(dirname, filename))\n",
    "\n",
    "# You can write up to 20GB to the current directory (/kaggle/working/) that gets preserved as output when you create a version using \"Save & Run All\" \n",
    "# You can also write temporary files to /kaggle/temp/, but they won't be saved outside of the current session"
   ]
  },
  {
   "cell_type": "markdown",
   "id": "1254ddbf",
   "metadata": {
    "papermill": {
     "duration": 0.019123,
     "end_time": "2022-11-30T05:28:51.770401",
     "exception": false,
     "start_time": "2022-11-30T05:28:51.751278",
     "status": "completed"
    },
    "tags": []
   },
   "source": [
    "## Basic Data Exploration"
   ]
  },
  {
   "cell_type": "code",
   "execution_count": 2,
   "id": "6f992474",
   "metadata": {
    "execution": {
     "iopub.execute_input": "2022-11-30T05:28:51.808808Z",
     "iopub.status.busy": "2022-11-30T05:28:51.807976Z",
     "iopub.status.idle": "2022-11-30T05:28:51.946208Z",
     "shell.execute_reply": "2022-11-30T05:28:51.945016Z"
    },
    "papermill": {
     "duration": 0.160973,
     "end_time": "2022-11-30T05:28:51.949395",
     "exception": false,
     "start_time": "2022-11-30T05:28:51.788422",
     "status": "completed"
    },
    "tags": []
   },
   "outputs": [],
   "source": [
    "df = pd.read_csv(r\"../input/marketing-strategy-personalised-offer/train_data.csv\")"
   ]
  },
  {
   "cell_type": "code",
   "execution_count": 3,
   "id": "97fecf48",
   "metadata": {
    "execution": {
     "iopub.execute_input": "2022-11-30T05:28:51.988686Z",
     "iopub.status.busy": "2022-11-30T05:28:51.987033Z",
     "iopub.status.idle": "2022-11-30T05:28:52.052320Z",
     "shell.execute_reply": "2022-11-30T05:28:52.050737Z"
    },
    "papermill": {
     "duration": 0.087683,
     "end_time": "2022-11-30T05:28:52.054802",
     "exception": false,
     "start_time": "2022-11-30T05:28:51.967119",
     "status": "completed"
    },
    "tags": []
   },
   "outputs": [
    {
     "data": {
      "text/html": [
       "<div>\n",
       "<style scoped>\n",
       "    .dataframe tbody tr th:only-of-type {\n",
       "        vertical-align: middle;\n",
       "    }\n",
       "\n",
       "    .dataframe tbody tr th {\n",
       "        vertical-align: top;\n",
       "    }\n",
       "\n",
       "    .dataframe thead th {\n",
       "        text-align: right;\n",
       "    }\n",
       "</style>\n",
       "<table border=\"1\" class=\"dataframe\">\n",
       "  <thead>\n",
       "    <tr style=\"text-align: right;\">\n",
       "      <th></th>\n",
       "      <th>offer expiration</th>\n",
       "      <th>income_range</th>\n",
       "      <th>no_visited_Cold drinks</th>\n",
       "      <th>travelled_more_than_15mins_for_offer</th>\n",
       "      <th>Restaur_spend_less_than20</th>\n",
       "      <th>Marital Status</th>\n",
       "      <th>restaurant type</th>\n",
       "      <th>age</th>\n",
       "      <th>Prefer western over chinese</th>\n",
       "      <th>travelled_more_than_25mins_for_offer</th>\n",
       "      <th>...</th>\n",
       "      <th>restuarant_opposite_direction_house</th>\n",
       "      <th>has Children</th>\n",
       "      <th>visit restaurant with rating (avg)</th>\n",
       "      <th>temperature</th>\n",
       "      <th>Restaur_spend_greater_than20</th>\n",
       "      <th>Travel Time</th>\n",
       "      <th>Climate</th>\n",
       "      <th>drop location</th>\n",
       "      <th>Prefer home food</th>\n",
       "      <th>Offer Accepted</th>\n",
       "    </tr>\n",
       "  </thead>\n",
       "  <tbody>\n",
       "    <tr>\n",
       "      <th>0</th>\n",
       "      <td>2days</td>\n",
       "      <td>₹100000 or More</td>\n",
       "      <td>4~8</td>\n",
       "      <td>1</td>\n",
       "      <td>less1</td>\n",
       "      <td>Married partner</td>\n",
       "      <td>4 star restaurant</td>\n",
       "      <td>36</td>\n",
       "      <td>0</td>\n",
       "      <td>0</td>\n",
       "      <td>...</td>\n",
       "      <td>0</td>\n",
       "      <td>0</td>\n",
       "      <td>4</td>\n",
       "      <td>67</td>\n",
       "      <td>less1</td>\n",
       "      <td>22</td>\n",
       "      <td>Spring</td>\n",
       "      <td>Location B</td>\n",
       "      <td>0</td>\n",
       "      <td>No</td>\n",
       "    </tr>\n",
       "    <tr>\n",
       "      <th>1</th>\n",
       "      <td>2days</td>\n",
       "      <td>₹87500 - ₹99999</td>\n",
       "      <td>4~8</td>\n",
       "      <td>0</td>\n",
       "      <td>4~8</td>\n",
       "      <td>Married partner</td>\n",
       "      <td>Take-away restaurant</td>\n",
       "      <td>50plus</td>\n",
       "      <td>0</td>\n",
       "      <td>0</td>\n",
       "      <td>...</td>\n",
       "      <td>0</td>\n",
       "      <td>1</td>\n",
       "      <td>3</td>\n",
       "      <td>89</td>\n",
       "      <td>1~3</td>\n",
       "      <td>18</td>\n",
       "      <td>Summer</td>\n",
       "      <td>Location B</td>\n",
       "      <td>0</td>\n",
       "      <td>Yes</td>\n",
       "    </tr>\n",
       "    <tr>\n",
       "      <th>2</th>\n",
       "      <td>2days</td>\n",
       "      <td>₹87500 - ₹99999</td>\n",
       "      <td>less1</td>\n",
       "      <td>1</td>\n",
       "      <td>1~3</td>\n",
       "      <td>Single</td>\n",
       "      <td>Cold drinks</td>\n",
       "      <td>26</td>\n",
       "      <td>1</td>\n",
       "      <td>0</td>\n",
       "      <td>...</td>\n",
       "      <td>1</td>\n",
       "      <td>1</td>\n",
       "      <td>4</td>\n",
       "      <td>67</td>\n",
       "      <td>less1</td>\n",
       "      <td>7</td>\n",
       "      <td>Winter</td>\n",
       "      <td>Location A</td>\n",
       "      <td>1</td>\n",
       "      <td>Yes</td>\n",
       "    </tr>\n",
       "    <tr>\n",
       "      <th>3</th>\n",
       "      <td>10hours</td>\n",
       "      <td>₹37500 - ₹49999</td>\n",
       "      <td>less1</td>\n",
       "      <td>0</td>\n",
       "      <td>1~3</td>\n",
       "      <td>Single</td>\n",
       "      <td>Take-away restaurant</td>\n",
       "      <td>46</td>\n",
       "      <td>1</td>\n",
       "      <td>0</td>\n",
       "      <td>...</td>\n",
       "      <td>0</td>\n",
       "      <td>1</td>\n",
       "      <td>3</td>\n",
       "      <td>89</td>\n",
       "      <td>1~3</td>\n",
       "      <td>7</td>\n",
       "      <td>Summer</td>\n",
       "      <td>Location C</td>\n",
       "      <td>0</td>\n",
       "      <td>No</td>\n",
       "    </tr>\n",
       "    <tr>\n",
       "      <th>4</th>\n",
       "      <td>2days</td>\n",
       "      <td>₹100000 or More</td>\n",
       "      <td>never</td>\n",
       "      <td>1</td>\n",
       "      <td>1~3</td>\n",
       "      <td>Single</td>\n",
       "      <td>4 star restaurant</td>\n",
       "      <td>21</td>\n",
       "      <td>0</td>\n",
       "      <td>1</td>\n",
       "      <td>...</td>\n",
       "      <td>1</td>\n",
       "      <td>0</td>\n",
       "      <td>3</td>\n",
       "      <td>40</td>\n",
       "      <td>less1</td>\n",
       "      <td>7</td>\n",
       "      <td>Summer</td>\n",
       "      <td>Location C</td>\n",
       "      <td>0</td>\n",
       "      <td>No</td>\n",
       "    </tr>\n",
       "    <tr>\n",
       "      <th>...</th>\n",
       "      <td>...</td>\n",
       "      <td>...</td>\n",
       "      <td>...</td>\n",
       "      <td>...</td>\n",
       "      <td>...</td>\n",
       "      <td>...</td>\n",
       "      <td>...</td>\n",
       "      <td>...</td>\n",
       "      <td>...</td>\n",
       "      <td>...</td>\n",
       "      <td>...</td>\n",
       "      <td>...</td>\n",
       "      <td>...</td>\n",
       "      <td>...</td>\n",
       "      <td>...</td>\n",
       "      <td>...</td>\n",
       "      <td>...</td>\n",
       "      <td>...</td>\n",
       "      <td>...</td>\n",
       "      <td>...</td>\n",
       "      <td>...</td>\n",
       "    </tr>\n",
       "    <tr>\n",
       "      <th>12374</th>\n",
       "      <td>10hours</td>\n",
       "      <td>₹25000 - ₹37499</td>\n",
       "      <td>less1</td>\n",
       "      <td>1</td>\n",
       "      <td>gt8</td>\n",
       "      <td>Unmarried partner</td>\n",
       "      <td>Restaurant with pub</td>\n",
       "      <td>50plus</td>\n",
       "      <td>0</td>\n",
       "      <td>0</td>\n",
       "      <td>...</td>\n",
       "      <td>1</td>\n",
       "      <td>1</td>\n",
       "      <td>1</td>\n",
       "      <td>89</td>\n",
       "      <td>never</td>\n",
       "      <td>22</td>\n",
       "      <td>Summer</td>\n",
       "      <td>Location B</td>\n",
       "      <td>0</td>\n",
       "      <td>Yes</td>\n",
       "    </tr>\n",
       "    <tr>\n",
       "      <th>12375</th>\n",
       "      <td>2days</td>\n",
       "      <td>₹25000 - ₹37499</td>\n",
       "      <td>4~8</td>\n",
       "      <td>0</td>\n",
       "      <td>never</td>\n",
       "      <td>Single</td>\n",
       "      <td>Take-away restaurant</td>\n",
       "      <td>21</td>\n",
       "      <td>0</td>\n",
       "      <td>0</td>\n",
       "      <td>...</td>\n",
       "      <td>1</td>\n",
       "      <td>1</td>\n",
       "      <td>2</td>\n",
       "      <td>67</td>\n",
       "      <td>never</td>\n",
       "      <td>18</td>\n",
       "      <td>Summer</td>\n",
       "      <td>Location B</td>\n",
       "      <td>0</td>\n",
       "      <td>Yes</td>\n",
       "    </tr>\n",
       "    <tr>\n",
       "      <th>12376</th>\n",
       "      <td>10hours</td>\n",
       "      <td>₹87500 - ₹99999</td>\n",
       "      <td>4~8</td>\n",
       "      <td>1</td>\n",
       "      <td>gt8</td>\n",
       "      <td>Married partner</td>\n",
       "      <td>Cold drinks</td>\n",
       "      <td>31</td>\n",
       "      <td>0</td>\n",
       "      <td>1</td>\n",
       "      <td>...</td>\n",
       "      <td>1</td>\n",
       "      <td>0</td>\n",
       "      <td>2</td>\n",
       "      <td>89</td>\n",
       "      <td>gt8</td>\n",
       "      <td>18</td>\n",
       "      <td>Spring</td>\n",
       "      <td>Location B</td>\n",
       "      <td>1</td>\n",
       "      <td>No</td>\n",
       "    </tr>\n",
       "    <tr>\n",
       "      <th>12377</th>\n",
       "      <td>10hours</td>\n",
       "      <td>₹12500 - ₹24999</td>\n",
       "      <td>4~8</td>\n",
       "      <td>1</td>\n",
       "      <td>less1</td>\n",
       "      <td>Married partner</td>\n",
       "      <td>2 star restaurant</td>\n",
       "      <td>26</td>\n",
       "      <td>0</td>\n",
       "      <td>0</td>\n",
       "      <td>...</td>\n",
       "      <td>1</td>\n",
       "      <td>0</td>\n",
       "      <td>1</td>\n",
       "      <td>89</td>\n",
       "      <td>less1</td>\n",
       "      <td>7</td>\n",
       "      <td>Summer</td>\n",
       "      <td>Location C</td>\n",
       "      <td>0</td>\n",
       "      <td>Yes</td>\n",
       "    </tr>\n",
       "    <tr>\n",
       "      <th>12378</th>\n",
       "      <td>2days</td>\n",
       "      <td>₹37500 - ₹49999</td>\n",
       "      <td>1~3</td>\n",
       "      <td>1</td>\n",
       "      <td>less1</td>\n",
       "      <td>Unmarried partner</td>\n",
       "      <td>4 star restaurant</td>\n",
       "      <td>below21</td>\n",
       "      <td>1</td>\n",
       "      <td>0</td>\n",
       "      <td>...</td>\n",
       "      <td>1</td>\n",
       "      <td>0</td>\n",
       "      <td>0</td>\n",
       "      <td>67</td>\n",
       "      <td>less1</td>\n",
       "      <td>7</td>\n",
       "      <td>Spring</td>\n",
       "      <td>Location A</td>\n",
       "      <td>1</td>\n",
       "      <td>Yes</td>\n",
       "    </tr>\n",
       "  </tbody>\n",
       "</table>\n",
       "<p>12379 rows × 31 columns</p>\n",
       "</div>"
      ],
      "text/plain": [
       "      offer expiration     income_range no_visited_Cold drinks  \\\n",
       "0                2days  ₹100000 or More                    4~8   \n",
       "1                2days  ₹87500 - ₹99999                    4~8   \n",
       "2                2days  ₹87500 - ₹99999                  less1   \n",
       "3              10hours  ₹37500 - ₹49999                  less1   \n",
       "4                2days  ₹100000 or More                  never   \n",
       "...                ...              ...                    ...   \n",
       "12374          10hours  ₹25000 - ₹37499                  less1   \n",
       "12375            2days  ₹25000 - ₹37499                    4~8   \n",
       "12376          10hours  ₹87500 - ₹99999                    4~8   \n",
       "12377          10hours  ₹12500 - ₹24999                    4~8   \n",
       "12378            2days  ₹37500 - ₹49999                    1~3   \n",
       "\n",
       "       travelled_more_than_15mins_for_offer Restaur_spend_less_than20  \\\n",
       "0                                         1                     less1   \n",
       "1                                         0                       4~8   \n",
       "2                                         1                       1~3   \n",
       "3                                         0                       1~3   \n",
       "4                                         1                       1~3   \n",
       "...                                     ...                       ...   \n",
       "12374                                     1                       gt8   \n",
       "12375                                     0                     never   \n",
       "12376                                     1                       gt8   \n",
       "12377                                     1                     less1   \n",
       "12378                                     1                     less1   \n",
       "\n",
       "          Marital Status       restaurant type      age  \\\n",
       "0        Married partner     4 star restaurant       36   \n",
       "1        Married partner  Take-away restaurant   50plus   \n",
       "2                 Single           Cold drinks       26   \n",
       "3                 Single  Take-away restaurant       46   \n",
       "4                 Single     4 star restaurant       21   \n",
       "...                  ...                   ...      ...   \n",
       "12374  Unmarried partner   Restaurant with pub   50plus   \n",
       "12375             Single  Take-away restaurant       21   \n",
       "12376    Married partner           Cold drinks       31   \n",
       "12377    Married partner     2 star restaurant       26   \n",
       "12378  Unmarried partner     4 star restaurant  below21   \n",
       "\n",
       "       Prefer western over chinese  travelled_more_than_25mins_for_offer  ...  \\\n",
       "0                                0                                     0  ...   \n",
       "1                                0                                     0  ...   \n",
       "2                                1                                     0  ...   \n",
       "3                                1                                     0  ...   \n",
       "4                                0                                     1  ...   \n",
       "...                            ...                                   ...  ...   \n",
       "12374                            0                                     0  ...   \n",
       "12375                            0                                     0  ...   \n",
       "12376                            0                                     1  ...   \n",
       "12377                            0                                     0  ...   \n",
       "12378                            1                                     0  ...   \n",
       "\n",
       "       restuarant_opposite_direction_house has Children  \\\n",
       "0                                        0            0   \n",
       "1                                        0            1   \n",
       "2                                        1            1   \n",
       "3                                        0            1   \n",
       "4                                        1            0   \n",
       "...                                    ...          ...   \n",
       "12374                                    1            1   \n",
       "12375                                    1            1   \n",
       "12376                                    1            0   \n",
       "12377                                    1            0   \n",
       "12378                                    1            0   \n",
       "\n",
       "      visit restaurant with rating (avg) temperature  \\\n",
       "0                                      4          67   \n",
       "1                                      3          89   \n",
       "2                                      4          67   \n",
       "3                                      3          89   \n",
       "4                                      3          40   \n",
       "...                                  ...         ...   \n",
       "12374                                  1          89   \n",
       "12375                                  2          67   \n",
       "12376                                  2          89   \n",
       "12377                                  1          89   \n",
       "12378                                  0          67   \n",
       "\n",
       "       Restaur_spend_greater_than20  Travel Time Climate drop location  \\\n",
       "0                             less1           22  Spring    Location B   \n",
       "1                               1~3           18  Summer    Location B   \n",
       "2                             less1            7  Winter    Location A   \n",
       "3                               1~3            7  Summer    Location C   \n",
       "4                             less1            7  Summer    Location C   \n",
       "...                             ...          ...     ...           ...   \n",
       "12374                         never           22  Summer    Location B   \n",
       "12375                         never           18  Summer    Location B   \n",
       "12376                           gt8           18  Spring    Location B   \n",
       "12377                         less1            7  Summer    Location C   \n",
       "12378                         less1            7  Spring    Location A   \n",
       "\n",
       "       Prefer home food Offer Accepted  \n",
       "0                     0             No  \n",
       "1                     0            Yes  \n",
       "2                     1            Yes  \n",
       "3                     0             No  \n",
       "4                     0             No  \n",
       "...                 ...            ...  \n",
       "12374                 0            Yes  \n",
       "12375                 0            Yes  \n",
       "12376                 1             No  \n",
       "12377                 0            Yes  \n",
       "12378                 1            Yes  \n",
       "\n",
       "[12379 rows x 31 columns]"
      ]
     },
     "execution_count": 3,
     "metadata": {},
     "output_type": "execute_result"
    }
   ],
   "source": [
    "df"
   ]
  },
  {
   "cell_type": "code",
   "execution_count": 4,
   "id": "1ef8b3d1",
   "metadata": {
    "execution": {
     "iopub.execute_input": "2022-11-30T05:28:52.094182Z",
     "iopub.status.busy": "2022-11-30T05:28:52.093345Z",
     "iopub.status.idle": "2022-11-30T05:28:52.109017Z",
     "shell.execute_reply": "2022-11-30T05:28:52.107518Z"
    },
    "papermill": {
     "duration": 0.038118,
     "end_time": "2022-11-30T05:28:52.111349",
     "exception": false,
     "start_time": "2022-11-30T05:28:52.073231",
     "status": "completed"
    },
    "tags": []
   },
   "outputs": [
    {
     "data": {
      "text/plain": [
       "array(['2days', '10hours'], dtype=object)"
      ]
     },
     "execution_count": 4,
     "metadata": {},
     "output_type": "execute_result"
    }
   ],
   "source": [
    "df[\"offer expiration\"].unique()"
   ]
  },
  {
   "cell_type": "code",
   "execution_count": 5,
   "id": "a3f660fe",
   "metadata": {
    "execution": {
     "iopub.execute_input": "2022-11-30T05:28:52.151638Z",
     "iopub.status.busy": "2022-11-30T05:28:52.150799Z",
     "iopub.status.idle": "2022-11-30T05:28:52.160554Z",
     "shell.execute_reply": "2022-11-30T05:28:52.158768Z"
    },
    "papermill": {
     "duration": 0.033652,
     "end_time": "2022-11-30T05:28:52.163299",
     "exception": false,
     "start_time": "2022-11-30T05:28:52.129647",
     "status": "completed"
    },
    "tags": []
   },
   "outputs": [
    {
     "data": {
      "text/plain": [
       "array(['4~8', 'less1', 'never', '1~3', 'gt8', nan], dtype=object)"
      ]
     },
     "execution_count": 5,
     "metadata": {},
     "output_type": "execute_result"
    }
   ],
   "source": [
    "df[\"no_visited_Cold drinks\"].unique()"
   ]
  },
  {
   "cell_type": "code",
   "execution_count": 6,
   "id": "09349ea4",
   "metadata": {
    "execution": {
     "iopub.execute_input": "2022-11-30T05:28:52.204692Z",
     "iopub.status.busy": "2022-11-30T05:28:52.203480Z",
     "iopub.status.idle": "2022-11-30T05:28:52.229710Z",
     "shell.execute_reply": "2022-11-30T05:28:52.228294Z"
    },
    "papermill": {
     "duration": 0.050119,
     "end_time": "2022-11-30T05:28:52.232523",
     "exception": false,
     "start_time": "2022-11-30T05:28:52.182404",
     "status": "completed"
    },
    "tags": []
   },
   "outputs": [
    {
     "data": {
      "text/plain": [
       "offer expiration                            0\n",
       "income_range                                0\n",
       "no_visited_Cold drinks                    198\n",
       "travelled_more_than_15mins_for_offer        0\n",
       "Restaur_spend_less_than20                 121\n",
       "Marital Status                              0\n",
       "restaurant type                             0\n",
       "age                                         0\n",
       "Prefer western over chinese                 0\n",
       "travelled_more_than_25mins_for_offer        0\n",
       "travelled_more_than_5mins_for_offer         0\n",
       "no_visited_bars                            93\n",
       "gender                                      0\n",
       "car                                     12268\n",
       "restuarant_same_direction_house             0\n",
       "Cooks regularly                             0\n",
       "Customer type                               0\n",
       "Qualification                               0\n",
       "is foodie                                   0\n",
       "no_Take-aways                             144\n",
       "Job/Job Industry                            0\n",
       "restuarant_opposite_direction_house         0\n",
       "has Children                                0\n",
       "visit restaurant with rating (avg)          0\n",
       "temperature                                 0\n",
       "Restaur_spend_greater_than20              160\n",
       "Travel Time                                 0\n",
       "Climate                                     0\n",
       "drop location                               0\n",
       "Prefer home food                            0\n",
       "Offer Accepted                              0\n",
       "dtype: int64"
      ]
     },
     "execution_count": 6,
     "metadata": {},
     "output_type": "execute_result"
    }
   ],
   "source": [
    "df.isna().sum()"
   ]
  },
  {
   "cell_type": "code",
   "execution_count": 7,
   "id": "27e12a69",
   "metadata": {
    "execution": {
     "iopub.execute_input": "2022-11-30T05:28:52.294836Z",
     "iopub.status.busy": "2022-11-30T05:28:52.293219Z",
     "iopub.status.idle": "2022-11-30T05:28:52.307129Z",
     "shell.execute_reply": "2022-11-30T05:28:52.305243Z"
    },
    "papermill": {
     "duration": 0.049978,
     "end_time": "2022-11-30T05:28:52.310700",
     "exception": false,
     "start_time": "2022-11-30T05:28:52.260722",
     "status": "completed"
    },
    "tags": []
   },
   "outputs": [
    {
     "data": {
      "text/plain": [
       "array([nan, 'Mazda5', 'Car that is too old to install Onstar :D',\n",
       "       'crossover', 'Scooter and motorcycle', 'do not drive'],\n",
       "      dtype=object)"
      ]
     },
     "execution_count": 7,
     "metadata": {},
     "output_type": "execute_result"
    }
   ],
   "source": [
    "df[\"car\"].unique()"
   ]
  },
  {
   "cell_type": "code",
   "execution_count": 8,
   "id": "66f3703a",
   "metadata": {
    "execution": {
     "iopub.execute_input": "2022-11-30T05:28:52.352738Z",
     "iopub.status.busy": "2022-11-30T05:28:52.352316Z",
     "iopub.status.idle": "2022-11-30T05:28:52.360610Z",
     "shell.execute_reply": "2022-11-30T05:28:52.359449Z"
    },
    "papermill": {
     "duration": 0.032174,
     "end_time": "2022-11-30T05:28:52.362954",
     "exception": false,
     "start_time": "2022-11-30T05:28:52.330780",
     "status": "completed"
    },
    "tags": []
   },
   "outputs": [
    {
     "data": {
      "text/plain": [
       "array(['less1', '1~3', 'never', 'gt8', nan, '4~8'], dtype=object)"
      ]
     },
     "execution_count": 8,
     "metadata": {},
     "output_type": "execute_result"
    }
   ],
   "source": [
    "df[\"Restaur_spend_greater_than20\"].unique()"
   ]
  },
  {
   "cell_type": "code",
   "execution_count": 9,
   "id": "b5b18fa9",
   "metadata": {
    "execution": {
     "iopub.execute_input": "2022-11-30T05:28:52.403245Z",
     "iopub.status.busy": "2022-11-30T05:28:52.402837Z",
     "iopub.status.idle": "2022-11-30T05:28:52.410291Z",
     "shell.execute_reply": "2022-11-30T05:28:52.409414Z"
    },
    "papermill": {
     "duration": 0.030313,
     "end_time": "2022-11-30T05:28:52.412550",
     "exception": false,
     "start_time": "2022-11-30T05:28:52.382237",
     "status": "completed"
    },
    "tags": []
   },
   "outputs": [
    {
     "data": {
      "text/plain": [
       "array(['1~3', 'gt8', '4~8', 'less1', nan, 'never'], dtype=object)"
      ]
     },
     "execution_count": 9,
     "metadata": {},
     "output_type": "execute_result"
    }
   ],
   "source": [
    "df[\"no_Take-aways\"].unique()"
   ]
  },
  {
   "cell_type": "code",
   "execution_count": 10,
   "id": "bf4ef015",
   "metadata": {
    "execution": {
     "iopub.execute_input": "2022-11-30T05:28:52.453443Z",
     "iopub.status.busy": "2022-11-30T05:28:52.453026Z",
     "iopub.status.idle": "2022-11-30T05:28:52.461627Z",
     "shell.execute_reply": "2022-11-30T05:28:52.460442Z"
    },
    "papermill": {
     "duration": 0.032084,
     "end_time": "2022-11-30T05:28:52.464033",
     "exception": false,
     "start_time": "2022-11-30T05:28:52.431949",
     "status": "completed"
    },
    "tags": []
   },
   "outputs": [
    {
     "data": {
      "text/plain": [
       "(9,)"
      ]
     },
     "execution_count": 10,
     "metadata": {},
     "output_type": "execute_result"
    }
   ],
   "source": [
    "df[\"income_range\"].unique().shape"
   ]
  },
  {
   "cell_type": "markdown",
   "id": "60b4c7eb",
   "metadata": {
    "papermill": {
     "duration": 0.020567,
     "end_time": "2022-11-30T05:28:52.504496",
     "exception": false,
     "start_time": "2022-11-30T05:28:52.483929",
     "status": "completed"
    },
    "tags": []
   },
   "source": [
    "## Some preliminary nan replacement?"
   ]
  },
  {
   "cell_type": "code",
   "execution_count": 11,
   "id": "c9fb6d5c",
   "metadata": {
    "execution": {
     "iopub.execute_input": "2022-11-30T05:28:52.546206Z",
     "iopub.status.busy": "2022-11-30T05:28:52.545669Z",
     "iopub.status.idle": "2022-11-30T05:28:53.895461Z",
     "shell.execute_reply": "2022-11-30T05:28:53.894074Z"
    },
    "papermill": {
     "duration": 1.374882,
     "end_time": "2022-11-30T05:28:53.898467",
     "exception": false,
     "start_time": "2022-11-30T05:28:52.523585",
     "status": "completed"
    },
    "tags": []
   },
   "outputs": [],
   "source": [
    "from sklearn.impute import SimpleImputer\n",
    "from sklearn.preprocessing import OneHotEncoder\n",
    "# Six columns have nan values. We will have to consider various strategies to handle them."
   ]
  },
  {
   "cell_type": "code",
   "execution_count": 12,
   "id": "fe4611b4",
   "metadata": {
    "execution": {
     "iopub.execute_input": "2022-11-30T05:28:53.938767Z",
     "iopub.status.busy": "2022-11-30T05:28:53.938313Z",
     "iopub.status.idle": "2022-11-30T05:28:53.949398Z",
     "shell.execute_reply": "2022-11-30T05:28:53.947950Z"
    },
    "papermill": {
     "duration": 0.034561,
     "end_time": "2022-11-30T05:28:53.952405",
     "exception": false,
     "start_time": "2022-11-30T05:28:53.917844",
     "status": "completed"
    },
    "tags": []
   },
   "outputs": [],
   "source": [
    "#Before doing any kind of imputations, first let's copy the data\n",
    "data = df.copy()"
   ]
  },
  {
   "cell_type": "code",
   "execution_count": 13,
   "id": "2171a43d",
   "metadata": {
    "execution": {
     "iopub.execute_input": "2022-11-30T05:28:53.992122Z",
     "iopub.status.busy": "2022-11-30T05:28:53.991733Z",
     "iopub.status.idle": "2022-11-30T05:28:54.006997Z",
     "shell.execute_reply": "2022-11-30T05:28:54.005446Z"
    },
    "papermill": {
     "duration": 0.03859,
     "end_time": "2022-11-30T05:28:54.009917",
     "exception": false,
     "start_time": "2022-11-30T05:28:53.971327",
     "status": "completed"
    },
    "tags": []
   },
   "outputs": [
    {
     "data": {
      "text/plain": [
       "less1    3304\n",
       "1~3      3147\n",
       "never    2903\n",
       "4~8      1776\n",
       "gt8      1051\n",
       "Name: no_visited_Cold drinks, dtype: int64"
      ]
     },
     "execution_count": 13,
     "metadata": {},
     "output_type": "execute_result"
    }
   ],
   "source": [
    "#For now, strategy is to impute with the most frequent value.\n",
    "#First step is to find the most frequent value for the nan columns.\n",
    "# First column in consideration is \"no_visited_Cold drinks\"\n",
    "df[\"no_visited_Cold drinks\"].value_counts()"
   ]
  },
  {
   "cell_type": "code",
   "execution_count": 14,
   "id": "ec1908c0",
   "metadata": {
    "execution": {
     "iopub.execute_input": "2022-11-30T05:28:54.051039Z",
     "iopub.status.busy": "2022-11-30T05:28:54.050633Z",
     "iopub.status.idle": "2022-11-30T05:28:54.058997Z",
     "shell.execute_reply": "2022-11-30T05:28:54.057635Z"
    },
    "papermill": {
     "duration": 0.032524,
     "end_time": "2022-11-30T05:28:54.062302",
     "exception": false,
     "start_time": "2022-11-30T05:28:54.029778",
     "status": "completed"
    },
    "tags": []
   },
   "outputs": [],
   "source": [
    "data[\"no_visited_Cold drinks\"].replace(np.nan,\"less1\", inplace = True)"
   ]
  },
  {
   "cell_type": "code",
   "execution_count": 15,
   "id": "e0c1e8fb",
   "metadata": {
    "execution": {
     "iopub.execute_input": "2022-11-30T05:28:54.105903Z",
     "iopub.status.busy": "2022-11-30T05:28:54.105497Z",
     "iopub.status.idle": "2022-11-30T05:28:54.117123Z",
     "shell.execute_reply": "2022-11-30T05:28:54.115642Z"
    },
    "papermill": {
     "duration": 0.036624,
     "end_time": "2022-11-30T05:28:54.120035",
     "exception": false,
     "start_time": "2022-11-30T05:28:54.083411",
     "status": "completed"
    },
    "tags": []
   },
   "outputs": [
    {
     "data": {
      "text/plain": [
       "1~3      5248\n",
       "4~8      3485\n",
       "less1    2052\n",
       "gt8      1265\n",
       "never     208\n",
       "Name: Restaur_spend_less_than20, dtype: int64"
      ]
     },
     "execution_count": 15,
     "metadata": {},
     "output_type": "execute_result"
    }
   ],
   "source": [
    "#Next column is \"Restaur_spend_less_than20\"\n",
    "df[\"Restaur_spend_less_than20\"].value_counts()"
   ]
  },
  {
   "cell_type": "code",
   "execution_count": 16,
   "id": "51faebd0",
   "metadata": {
    "execution": {
     "iopub.execute_input": "2022-11-30T05:28:54.163492Z",
     "iopub.status.busy": "2022-11-30T05:28:54.163084Z",
     "iopub.status.idle": "2022-11-30T05:28:54.171208Z",
     "shell.execute_reply": "2022-11-30T05:28:54.169772Z"
    },
    "papermill": {
     "duration": 0.032407,
     "end_time": "2022-11-30T05:28:54.173793",
     "exception": false,
     "start_time": "2022-11-30T05:28:54.141386",
     "status": "completed"
    },
    "tags": []
   },
   "outputs": [],
   "source": [
    "data[\"Restaur_spend_less_than20\"].replace(np.nan,\"1~3\", inplace = True)"
   ]
  },
  {
   "cell_type": "code",
   "execution_count": 17,
   "id": "eb61ee9d",
   "metadata": {
    "execution": {
     "iopub.execute_input": "2022-11-30T05:28:54.217203Z",
     "iopub.status.busy": "2022-11-30T05:28:54.216657Z",
     "iopub.status.idle": "2022-11-30T05:28:54.228172Z",
     "shell.execute_reply": "2022-11-30T05:28:54.226708Z"
    },
    "papermill": {
     "duration": 0.036697,
     "end_time": "2022-11-30T05:28:54.230837",
     "exception": false,
     "start_time": "2022-11-30T05:28:54.194140",
     "status": "completed"
    },
    "tags": []
   },
   "outputs": [
    {
     "data": {
      "text/plain": [
       "never    5064\n",
       "less1    3397\n",
       "1~3      2430\n",
       "4~8      1047\n",
       "gt8       348\n",
       "Name: no_visited_bars, dtype: int64"
      ]
     },
     "execution_count": 17,
     "metadata": {},
     "output_type": "execute_result"
    }
   ],
   "source": [
    "#Next column is \"no_visited_bars\"\n",
    "df[\"no_visited_bars\"].value_counts()"
   ]
  },
  {
   "cell_type": "code",
   "execution_count": 18,
   "id": "88a56371",
   "metadata": {
    "execution": {
     "iopub.execute_input": "2022-11-30T05:28:54.274636Z",
     "iopub.status.busy": "2022-11-30T05:28:54.274110Z",
     "iopub.status.idle": "2022-11-30T05:28:54.281732Z",
     "shell.execute_reply": "2022-11-30T05:28:54.280640Z"
    },
    "papermill": {
     "duration": 0.032421,
     "end_time": "2022-11-30T05:28:54.283848",
     "exception": false,
     "start_time": "2022-11-30T05:28:54.251427",
     "status": "completed"
    },
    "tags": []
   },
   "outputs": [],
   "source": [
    "data[\"no_visited_bars\"].replace(np.nan,\"never\", inplace = True)"
   ]
  },
  {
   "cell_type": "code",
   "execution_count": 19,
   "id": "9f50e26f",
   "metadata": {
    "execution": {
     "iopub.execute_input": "2022-11-30T05:28:54.326976Z",
     "iopub.status.busy": "2022-11-30T05:28:54.326488Z",
     "iopub.status.idle": "2022-11-30T05:28:54.336748Z",
     "shell.execute_reply": "2022-11-30T05:28:54.335492Z"
    },
    "papermill": {
     "duration": 0.035358,
     "end_time": "2022-11-30T05:28:54.339456",
     "exception": false,
     "start_time": "2022-11-30T05:28:54.304098",
     "status": "completed"
    },
    "tags": []
   },
   "outputs": [
    {
     "data": {
      "text/plain": [
       "Car that is too old to install Onstar :D    24\n",
       "Scooter and motorcycle                      23\n",
       "do not drive                                22\n",
       "Mazda5                                      21\n",
       "crossover                                   21\n",
       "Name: car, dtype: int64"
      ]
     },
     "execution_count": 19,
     "metadata": {},
     "output_type": "execute_result"
    }
   ],
   "source": [
    "#Next column is car\n",
    "df['car'].value_counts()"
   ]
  },
  {
   "cell_type": "code",
   "execution_count": 20,
   "id": "a1cde859",
   "metadata": {
    "execution": {
     "iopub.execute_input": "2022-11-30T05:28:54.381603Z",
     "iopub.status.busy": "2022-11-30T05:28:54.381099Z",
     "iopub.status.idle": "2022-11-30T05:28:54.388736Z",
     "shell.execute_reply": "2022-11-30T05:28:54.387732Z"
    },
    "papermill": {
     "duration": 0.031342,
     "end_time": "2022-11-30T05:28:54.390996",
     "exception": false,
     "start_time": "2022-11-30T05:28:54.359654",
     "status": "completed"
    },
    "tags": []
   },
   "outputs": [],
   "source": [
    "data[\"car\"].replace(np.nan,\"Car that is too old to install Onstar :D\", inplace = True)"
   ]
  },
  {
   "cell_type": "code",
   "execution_count": 21,
   "id": "558de687",
   "metadata": {
    "execution": {
     "iopub.execute_input": "2022-11-30T05:28:54.432947Z",
     "iopub.status.busy": "2022-11-30T05:28:54.432462Z",
     "iopub.status.idle": "2022-11-30T05:28:54.442813Z",
     "shell.execute_reply": "2022-11-30T05:28:54.441622Z"
    },
    "papermill": {
     "duration": 0.034767,
     "end_time": "2022-11-30T05:28:54.445396",
     "exception": false,
     "start_time": "2022-11-30T05:28:54.410629",
     "status": "completed"
    },
    "tags": []
   },
   "outputs": [
    {
     "data": {
      "text/plain": [
       "1~3      4650\n",
       "4~8      4115\n",
       "less1    1762\n",
       "gt8      1568\n",
       "never     140\n",
       "Name: no_Take-aways, dtype: int64"
      ]
     },
     "execution_count": 21,
     "metadata": {},
     "output_type": "execute_result"
    }
   ],
   "source": [
    "df[\"no_Take-aways\"].value_counts()"
   ]
  },
  {
   "cell_type": "code",
   "execution_count": 22,
   "id": "cf0d82ea",
   "metadata": {
    "execution": {
     "iopub.execute_input": "2022-11-30T05:28:54.487060Z",
     "iopub.status.busy": "2022-11-30T05:28:54.486550Z",
     "iopub.status.idle": "2022-11-30T05:28:54.495864Z",
     "shell.execute_reply": "2022-11-30T05:28:54.493938Z"
    },
    "papermill": {
     "duration": 0.033362,
     "end_time": "2022-11-30T05:28:54.498493",
     "exception": false,
     "start_time": "2022-11-30T05:28:54.465131",
     "status": "completed"
    },
    "tags": []
   },
   "outputs": [],
   "source": [
    "data[\"no_Take-aways\"].replace(np.nan,\"1~3\",inplace = True)"
   ]
  },
  {
   "cell_type": "code",
   "execution_count": 23,
   "id": "a5ed553d",
   "metadata": {
    "execution": {
     "iopub.execute_input": "2022-11-30T05:28:54.540147Z",
     "iopub.status.busy": "2022-11-30T05:28:54.539673Z",
     "iopub.status.idle": "2022-11-30T05:28:54.551782Z",
     "shell.execute_reply": "2022-11-30T05:28:54.549950Z"
    },
    "papermill": {
     "duration": 0.036324,
     "end_time": "2022-11-30T05:28:54.554381",
     "exception": false,
     "start_time": "2022-11-30T05:28:54.518057",
     "status": "completed"
    },
    "tags": []
   },
   "outputs": [
    {
     "data": {
      "text/plain": [
       "less1    5992\n",
       "1~3      3216\n",
       "never    2033\n",
       "4~8       711\n",
       "gt8       267\n",
       "Name: Restaur_spend_greater_than20, dtype: int64"
      ]
     },
     "execution_count": 23,
     "metadata": {},
     "output_type": "execute_result"
    }
   ],
   "source": [
    "df[\"Restaur_spend_greater_than20\"].value_counts()"
   ]
  },
  {
   "cell_type": "code",
   "execution_count": 24,
   "id": "84b3fc3f",
   "metadata": {
    "execution": {
     "iopub.execute_input": "2022-11-30T05:28:54.596641Z",
     "iopub.status.busy": "2022-11-30T05:28:54.596127Z",
     "iopub.status.idle": "2022-11-30T05:28:54.604456Z",
     "shell.execute_reply": "2022-11-30T05:28:54.603140Z"
    },
    "papermill": {
     "duration": 0.032771,
     "end_time": "2022-11-30T05:28:54.606994",
     "exception": false,
     "start_time": "2022-11-30T05:28:54.574223",
     "status": "completed"
    },
    "tags": []
   },
   "outputs": [],
   "source": [
    "data[\"Restaur_spend_greater_than20\"].replace(np.nan,\"less1\",inplace = True)"
   ]
  },
  {
   "cell_type": "code",
   "execution_count": 25,
   "id": "910d3dff",
   "metadata": {
    "execution": {
     "iopub.execute_input": "2022-11-30T05:28:54.648817Z",
     "iopub.status.busy": "2022-11-30T05:28:54.648295Z",
     "iopub.status.idle": "2022-11-30T05:28:54.671380Z",
     "shell.execute_reply": "2022-11-30T05:28:54.670032Z"
    },
    "papermill": {
     "duration": 0.047217,
     "end_time": "2022-11-30T05:28:54.674066",
     "exception": false,
     "start_time": "2022-11-30T05:28:54.626849",
     "status": "completed"
    },
    "tags": []
   },
   "outputs": [
    {
     "data": {
      "text/plain": [
       "offer expiration                        0\n",
       "income_range                            0\n",
       "no_visited_Cold drinks                  0\n",
       "travelled_more_than_15mins_for_offer    0\n",
       "Restaur_spend_less_than20               0\n",
       "Marital Status                          0\n",
       "restaurant type                         0\n",
       "age                                     0\n",
       "Prefer western over chinese             0\n",
       "travelled_more_than_25mins_for_offer    0\n",
       "travelled_more_than_5mins_for_offer     0\n",
       "no_visited_bars                         0\n",
       "gender                                  0\n",
       "car                                     0\n",
       "restuarant_same_direction_house         0\n",
       "Cooks regularly                         0\n",
       "Customer type                           0\n",
       "Qualification                           0\n",
       "is foodie                               0\n",
       "no_Take-aways                           0\n",
       "Job/Job Industry                        0\n",
       "restuarant_opposite_direction_house     0\n",
       "has Children                            0\n",
       "visit restaurant with rating (avg)      0\n",
       "temperature                             0\n",
       "Restaur_spend_greater_than20            0\n",
       "Travel Time                             0\n",
       "Climate                                 0\n",
       "drop location                           0\n",
       "Prefer home food                        0\n",
       "Offer Accepted                          0\n",
       "dtype: int64"
      ]
     },
     "execution_count": 25,
     "metadata": {},
     "output_type": "execute_result"
    }
   ],
   "source": [
    "#Now that all columns have been taken care, let's perform a sanity check\n",
    "data.isna().sum()"
   ]
  },
  {
   "cell_type": "code",
   "execution_count": 26,
   "id": "027bb43b",
   "metadata": {
    "execution": {
     "iopub.execute_input": "2022-11-30T05:28:54.717304Z",
     "iopub.status.busy": "2022-11-30T05:28:54.716902Z",
     "iopub.status.idle": "2022-11-30T05:28:54.739609Z",
     "shell.execute_reply": "2022-11-30T05:28:54.737965Z"
    },
    "papermill": {
     "duration": 0.047343,
     "end_time": "2022-11-30T05:28:54.742057",
     "exception": false,
     "start_time": "2022-11-30T05:28:54.694714",
     "status": "completed"
    },
    "tags": []
   },
   "outputs": [
    {
     "data": {
      "text/plain": [
       "offer expiration                            0\n",
       "income_range                                0\n",
       "no_visited_Cold drinks                    198\n",
       "travelled_more_than_15mins_for_offer        0\n",
       "Restaur_spend_less_than20                 121\n",
       "Marital Status                              0\n",
       "restaurant type                             0\n",
       "age                                         0\n",
       "Prefer western over chinese                 0\n",
       "travelled_more_than_25mins_for_offer        0\n",
       "travelled_more_than_5mins_for_offer         0\n",
       "no_visited_bars                            93\n",
       "gender                                      0\n",
       "car                                     12268\n",
       "restuarant_same_direction_house             0\n",
       "Cooks regularly                             0\n",
       "Customer type                               0\n",
       "Qualification                               0\n",
       "is foodie                                   0\n",
       "no_Take-aways                             144\n",
       "Job/Job Industry                            0\n",
       "restuarant_opposite_direction_house         0\n",
       "has Children                                0\n",
       "visit restaurant with rating (avg)          0\n",
       "temperature                                 0\n",
       "Restaur_spend_greater_than20              160\n",
       "Travel Time                                 0\n",
       "Climate                                     0\n",
       "drop location                               0\n",
       "Prefer home food                            0\n",
       "Offer Accepted                              0\n",
       "dtype: int64"
      ]
     },
     "execution_count": 26,
     "metadata": {},
     "output_type": "execute_result"
    }
   ],
   "source": [
    "df.isna().sum()"
   ]
  },
  {
   "cell_type": "markdown",
   "id": "3d425910",
   "metadata": {
    "papermill": {
     "duration": 0.019656,
     "end_time": "2022-11-30T05:28:54.781873",
     "exception": false,
     "start_time": "2022-11-30T05:28:54.762217",
     "status": "completed"
    },
    "tags": []
   },
   "source": [
    "## Converting Categorical to Numerical Values"
   ]
  },
  {
   "cell_type": "code",
   "execution_count": 27,
   "id": "49ebc441",
   "metadata": {
    "execution": {
     "iopub.execute_input": "2022-11-30T05:28:54.824335Z",
     "iopub.status.busy": "2022-11-30T05:28:54.823288Z",
     "iopub.status.idle": "2022-11-30T05:28:54.842309Z",
     "shell.execute_reply": "2022-11-30T05:28:54.840744Z"
    },
    "papermill": {
     "duration": 0.043157,
     "end_time": "2022-11-30T05:28:54.844997",
     "exception": false,
     "start_time": "2022-11-30T05:28:54.801840",
     "status": "completed"
    },
    "tags": []
   },
   "outputs": [],
   "source": [
    "data[\"Offer Accepted\"].replace(\"No\",0, inplace = True)\n",
    "data[\"Offer Accepted\"].replace(\"Yes\",1,inplace = True)\n",
    "data[\"Offer Accepted\"] = data[\"Offer Accepted\"].astype(np.uint8)"
   ]
  },
  {
   "cell_type": "code",
   "execution_count": 28,
   "id": "e5ad205e",
   "metadata": {
    "execution": {
     "iopub.execute_input": "2022-11-30T05:28:54.887947Z",
     "iopub.status.busy": "2022-11-30T05:28:54.887558Z",
     "iopub.status.idle": "2022-11-30T05:28:54.896391Z",
     "shell.execute_reply": "2022-11-30T05:28:54.895088Z"
    },
    "papermill": {
     "duration": 0.033155,
     "end_time": "2022-11-30T05:28:54.899121",
     "exception": false,
     "start_time": "2022-11-30T05:28:54.865966",
     "status": "completed"
    },
    "tags": []
   },
   "outputs": [],
   "source": [
    "from sklearn.preprocessing import StandardScaler\n",
    "ss = StandardScaler()\n",
    "data[\"temperature\"] = ss.fit_transform(data[\"temperature\"].values.reshape(-1,1))"
   ]
  },
  {
   "cell_type": "code",
   "execution_count": 29,
   "id": "357b3ff9",
   "metadata": {
    "execution": {
     "iopub.execute_input": "2022-11-30T05:28:54.941612Z",
     "iopub.status.busy": "2022-11-30T05:28:54.941181Z",
     "iopub.status.idle": "2022-11-30T05:28:54.950062Z",
     "shell.execute_reply": "2022-11-30T05:28:54.948752Z"
    },
    "papermill": {
     "duration": 0.033459,
     "end_time": "2022-11-30T05:28:54.952915",
     "exception": false,
     "start_time": "2022-11-30T05:28:54.919456",
     "status": "completed"
    },
    "tags": []
   },
   "outputs": [],
   "source": [
    "from sklearn.preprocessing import MinMaxScaler\n",
    "ss2 = StandardScaler()\n",
    "data[\"Travel Time\"] = ss2.fit_transform(data[\"Travel Time\"].values.reshape(-1,1))"
   ]
  },
  {
   "cell_type": "code",
   "execution_count": 30,
   "id": "3b63e8de",
   "metadata": {
    "execution": {
     "iopub.execute_input": "2022-11-30T05:28:54.994978Z",
     "iopub.status.busy": "2022-11-30T05:28:54.994578Z",
     "iopub.status.idle": "2022-11-30T05:28:55.003001Z",
     "shell.execute_reply": "2022-11-30T05:28:55.001114Z"
    },
    "papermill": {
     "duration": 0.033285,
     "end_time": "2022-11-30T05:28:55.006232",
     "exception": false,
     "start_time": "2022-11-30T05:28:54.972947",
     "status": "completed"
    },
    "tags": []
   },
   "outputs": [],
   "source": [
    "ss3 = StandardScaler()\n",
    "data[\"visit restaurant with rating (avg)\"] = ss3.fit_transform(data[\"visit restaurant with rating (avg)\"].values.reshape(-1,1))"
   ]
  },
  {
   "cell_type": "code",
   "execution_count": 31,
   "id": "ad5d269e",
   "metadata": {
    "execution": {
     "iopub.execute_input": "2022-11-30T05:28:55.048978Z",
     "iopub.status.busy": "2022-11-30T05:28:55.048484Z",
     "iopub.status.idle": "2022-11-30T05:28:55.110967Z",
     "shell.execute_reply": "2022-11-30T05:28:55.109415Z"
    },
    "papermill": {
     "duration": 0.087662,
     "end_time": "2022-11-30T05:28:55.114122",
     "exception": false,
     "start_time": "2022-11-30T05:28:55.026460",
     "status": "completed"
    },
    "tags": []
   },
   "outputs": [],
   "source": [
    "#Now indeed we have cleaned all the columns, next step is to get numerical values for categorical\n",
    "data_numerical = pd.get_dummies(data)"
   ]
  },
  {
   "cell_type": "code",
   "execution_count": 32,
   "id": "e97dbe7a",
   "metadata": {
    "execution": {
     "iopub.execute_input": "2022-11-30T05:28:55.158385Z",
     "iopub.status.busy": "2022-11-30T05:28:55.156730Z",
     "iopub.status.idle": "2022-11-30T05:28:55.165681Z",
     "shell.execute_reply": "2022-11-30T05:28:55.164617Z"
    },
    "papermill": {
     "duration": 0.03346,
     "end_time": "2022-11-30T05:28:55.167930",
     "exception": false,
     "start_time": "2022-11-30T05:28:55.134470",
     "status": "completed"
    },
    "tags": []
   },
   "outputs": [
    {
     "data": {
      "text/plain": [
       "Index(['travelled_more_than_15mins_for_offer', 'Prefer western over chinese',\n",
       "       'travelled_more_than_25mins_for_offer',\n",
       "       'travelled_more_than_5mins_for_offer',\n",
       "       'restuarant_same_direction_house', 'Cooks regularly', 'is foodie',\n",
       "       'restuarant_opposite_direction_house', 'has Children',\n",
       "       'visit restaurant with rating (avg)',\n",
       "       ...\n",
       "       'Restaur_spend_greater_than20_4~8', 'Restaur_spend_greater_than20_gt8',\n",
       "       'Restaur_spend_greater_than20_less1',\n",
       "       'Restaur_spend_greater_than20_never', 'Climate_Spring',\n",
       "       'Climate_Summer', 'Climate_Winter', 'drop location_Location A',\n",
       "       'drop location_Location B', 'drop location_Location C'],\n",
       "      dtype='object', length=116)"
      ]
     },
     "execution_count": 32,
     "metadata": {},
     "output_type": "execute_result"
    }
   ],
   "source": [
    "data_numerical.columns"
   ]
  },
  {
   "cell_type": "markdown",
   "id": "2819385e",
   "metadata": {
    "papermill": {
     "duration": 0.020508,
     "end_time": "2022-11-30T05:28:55.208615",
     "exception": false,
     "start_time": "2022-11-30T05:28:55.188107",
     "status": "completed"
    },
    "tags": []
   },
   "source": [
    "## Basic Model"
   ]
  },
  {
   "cell_type": "code",
   "execution_count": 33,
   "id": "aef5a4bd",
   "metadata": {
    "execution": {
     "iopub.execute_input": "2022-11-30T05:28:55.252416Z",
     "iopub.status.busy": "2022-11-30T05:28:55.250717Z",
     "iopub.status.idle": "2022-11-30T05:28:55.266565Z",
     "shell.execute_reply": "2022-11-30T05:28:55.265462Z"
    },
    "papermill": {
     "duration": 0.040275,
     "end_time": "2022-11-30T05:28:55.269127",
     "exception": false,
     "start_time": "2022-11-30T05:28:55.228852",
     "status": "completed"
    },
    "tags": []
   },
   "outputs": [],
   "source": [
    "from sklearn.linear_model import LogisticRegression\n",
    "from sklearn.svm import SVC\n",
    "from sklearn.neural_network import MLPClassifier\n",
    "from sklearn.model_selection import StratifiedKFold,train_test_split\n",
    "from sklearn.preprocessing import StandardScaler"
   ]
  },
  {
   "cell_type": "code",
   "execution_count": 34,
   "id": "f404020a",
   "metadata": {
    "execution": {
     "iopub.execute_input": "2022-11-30T05:28:55.311415Z",
     "iopub.status.busy": "2022-11-30T05:28:55.310873Z",
     "iopub.status.idle": "2022-11-30T05:28:55.341068Z",
     "shell.execute_reply": "2022-11-30T05:28:55.338859Z"
    },
    "papermill": {
     "duration": 0.054849,
     "end_time": "2022-11-30T05:28:55.344087",
     "exception": false,
     "start_time": "2022-11-30T05:28:55.289238",
     "status": "completed"
    },
    "tags": []
   },
   "outputs": [],
   "source": [
    "X = data_numerical.drop(\"Offer Accepted\", axis = 1)\n",
    "Y = data_numerical[\"Offer Accepted\"]\n",
    "X_train,X_test, Y_train,Y_test = train_test_split(X,Y,random_state = 42,test_size = 0.2)"
   ]
  },
  {
   "cell_type": "code",
   "execution_count": 35,
   "id": "13b99512",
   "metadata": {
    "execution": {
     "iopub.execute_input": "2022-11-30T05:28:55.386756Z",
     "iopub.status.busy": "2022-11-30T05:28:55.386210Z",
     "iopub.status.idle": "2022-11-30T05:28:55.414094Z",
     "shell.execute_reply": "2022-11-30T05:28:55.412861Z"
    },
    "papermill": {
     "duration": 0.05234,
     "end_time": "2022-11-30T05:28:55.416638",
     "exception": false,
     "start_time": "2022-11-30T05:28:55.364298",
     "status": "completed"
    },
    "tags": []
   },
   "outputs": [
    {
     "data": {
      "text/html": [
       "<div>\n",
       "<style scoped>\n",
       "    .dataframe tbody tr th:only-of-type {\n",
       "        vertical-align: middle;\n",
       "    }\n",
       "\n",
       "    .dataframe tbody tr th {\n",
       "        vertical-align: top;\n",
       "    }\n",
       "\n",
       "    .dataframe thead th {\n",
       "        text-align: right;\n",
       "    }\n",
       "</style>\n",
       "<table border=\"1\" class=\"dataframe\">\n",
       "  <thead>\n",
       "    <tr style=\"text-align: right;\">\n",
       "      <th></th>\n",
       "      <th>travelled_more_than_15mins_for_offer</th>\n",
       "      <th>Prefer western over chinese</th>\n",
       "      <th>travelled_more_than_25mins_for_offer</th>\n",
       "      <th>travelled_more_than_5mins_for_offer</th>\n",
       "      <th>restuarant_same_direction_house</th>\n",
       "      <th>Cooks regularly</th>\n",
       "      <th>is foodie</th>\n",
       "      <th>restuarant_opposite_direction_house</th>\n",
       "      <th>has Children</th>\n",
       "      <th>visit restaurant with rating (avg)</th>\n",
       "      <th>...</th>\n",
       "      <th>Restaur_spend_greater_than20_4~8</th>\n",
       "      <th>Restaur_spend_greater_than20_gt8</th>\n",
       "      <th>Restaur_spend_greater_than20_less1</th>\n",
       "      <th>Restaur_spend_greater_than20_never</th>\n",
       "      <th>Climate_Spring</th>\n",
       "      <th>Climate_Summer</th>\n",
       "      <th>Climate_Winter</th>\n",
       "      <th>drop location_Location A</th>\n",
       "      <th>drop location_Location B</th>\n",
       "      <th>drop location_Location C</th>\n",
       "    </tr>\n",
       "  </thead>\n",
       "  <tbody>\n",
       "    <tr>\n",
       "      <th>1691</th>\n",
       "      <td>1</td>\n",
       "      <td>0</td>\n",
       "      <td>0</td>\n",
       "      <td>1</td>\n",
       "      <td>1</td>\n",
       "      <td>0</td>\n",
       "      <td>1</td>\n",
       "      <td>0</td>\n",
       "      <td>1</td>\n",
       "      <td>-0.694854</td>\n",
       "      <td>...</td>\n",
       "      <td>0</td>\n",
       "      <td>0</td>\n",
       "      <td>1</td>\n",
       "      <td>0</td>\n",
       "      <td>0</td>\n",
       "      <td>1</td>\n",
       "      <td>0</td>\n",
       "      <td>0</td>\n",
       "      <td>1</td>\n",
       "      <td>0</td>\n",
       "    </tr>\n",
       "    <tr>\n",
       "      <th>8979</th>\n",
       "      <td>0</td>\n",
       "      <td>1</td>\n",
       "      <td>0</td>\n",
       "      <td>1</td>\n",
       "      <td>0</td>\n",
       "      <td>1</td>\n",
       "      <td>0</td>\n",
       "      <td>1</td>\n",
       "      <td>0</td>\n",
       "      <td>1.415450</td>\n",
       "      <td>...</td>\n",
       "      <td>0</td>\n",
       "      <td>0</td>\n",
       "      <td>1</td>\n",
       "      <td>0</td>\n",
       "      <td>1</td>\n",
       "      <td>0</td>\n",
       "      <td>0</td>\n",
       "      <td>0</td>\n",
       "      <td>1</td>\n",
       "      <td>0</td>\n",
       "    </tr>\n",
       "    <tr>\n",
       "      <th>123</th>\n",
       "      <td>1</td>\n",
       "      <td>0</td>\n",
       "      <td>0</td>\n",
       "      <td>1</td>\n",
       "      <td>0</td>\n",
       "      <td>1</td>\n",
       "      <td>1</td>\n",
       "      <td>1</td>\n",
       "      <td>1</td>\n",
       "      <td>0.712015</td>\n",
       "      <td>...</td>\n",
       "      <td>0</td>\n",
       "      <td>0</td>\n",
       "      <td>0</td>\n",
       "      <td>0</td>\n",
       "      <td>1</td>\n",
       "      <td>0</td>\n",
       "      <td>0</td>\n",
       "      <td>1</td>\n",
       "      <td>0</td>\n",
       "      <td>0</td>\n",
       "    </tr>\n",
       "    <tr>\n",
       "      <th>7038</th>\n",
       "      <td>0</td>\n",
       "      <td>1</td>\n",
       "      <td>0</td>\n",
       "      <td>1</td>\n",
       "      <td>1</td>\n",
       "      <td>0</td>\n",
       "      <td>0</td>\n",
       "      <td>0</td>\n",
       "      <td>1</td>\n",
       "      <td>1.415450</td>\n",
       "      <td>...</td>\n",
       "      <td>0</td>\n",
       "      <td>0</td>\n",
       "      <td>0</td>\n",
       "      <td>0</td>\n",
       "      <td>0</td>\n",
       "      <td>1</td>\n",
       "      <td>0</td>\n",
       "      <td>0</td>\n",
       "      <td>0</td>\n",
       "      <td>1</td>\n",
       "    </tr>\n",
       "    <tr>\n",
       "      <th>1952</th>\n",
       "      <td>1</td>\n",
       "      <td>0</td>\n",
       "      <td>0</td>\n",
       "      <td>1</td>\n",
       "      <td>1</td>\n",
       "      <td>0</td>\n",
       "      <td>1</td>\n",
       "      <td>0</td>\n",
       "      <td>0</td>\n",
       "      <td>0.008581</td>\n",
       "      <td>...</td>\n",
       "      <td>0</td>\n",
       "      <td>0</td>\n",
       "      <td>0</td>\n",
       "      <td>0</td>\n",
       "      <td>0</td>\n",
       "      <td>1</td>\n",
       "      <td>0</td>\n",
       "      <td>0</td>\n",
       "      <td>1</td>\n",
       "      <td>0</td>\n",
       "    </tr>\n",
       "    <tr>\n",
       "      <th>...</th>\n",
       "      <td>...</td>\n",
       "      <td>...</td>\n",
       "      <td>...</td>\n",
       "      <td>...</td>\n",
       "      <td>...</td>\n",
       "      <td>...</td>\n",
       "      <td>...</td>\n",
       "      <td>...</td>\n",
       "      <td>...</td>\n",
       "      <td>...</td>\n",
       "      <td>...</td>\n",
       "      <td>...</td>\n",
       "      <td>...</td>\n",
       "      <td>...</td>\n",
       "      <td>...</td>\n",
       "      <td>...</td>\n",
       "      <td>...</td>\n",
       "      <td>...</td>\n",
       "      <td>...</td>\n",
       "      <td>...</td>\n",
       "      <td>...</td>\n",
       "    </tr>\n",
       "    <tr>\n",
       "      <th>11964</th>\n",
       "      <td>0</td>\n",
       "      <td>1</td>\n",
       "      <td>0</td>\n",
       "      <td>1</td>\n",
       "      <td>1</td>\n",
       "      <td>0</td>\n",
       "      <td>0</td>\n",
       "      <td>0</td>\n",
       "      <td>0</td>\n",
       "      <td>0.008581</td>\n",
       "      <td>...</td>\n",
       "      <td>0</td>\n",
       "      <td>0</td>\n",
       "      <td>0</td>\n",
       "      <td>0</td>\n",
       "      <td>0</td>\n",
       "      <td>1</td>\n",
       "      <td>0</td>\n",
       "      <td>0</td>\n",
       "      <td>1</td>\n",
       "      <td>0</td>\n",
       "    </tr>\n",
       "    <tr>\n",
       "      <th>5191</th>\n",
       "      <td>1</td>\n",
       "      <td>1</td>\n",
       "      <td>1</td>\n",
       "      <td>1</td>\n",
       "      <td>0</td>\n",
       "      <td>0</td>\n",
       "      <td>0</td>\n",
       "      <td>1</td>\n",
       "      <td>1</td>\n",
       "      <td>0.712015</td>\n",
       "      <td>...</td>\n",
       "      <td>0</td>\n",
       "      <td>0</td>\n",
       "      <td>1</td>\n",
       "      <td>0</td>\n",
       "      <td>1</td>\n",
       "      <td>0</td>\n",
       "      <td>0</td>\n",
       "      <td>0</td>\n",
       "      <td>1</td>\n",
       "      <td>0</td>\n",
       "    </tr>\n",
       "    <tr>\n",
       "      <th>5390</th>\n",
       "      <td>1</td>\n",
       "      <td>1</td>\n",
       "      <td>0</td>\n",
       "      <td>1</td>\n",
       "      <td>0</td>\n",
       "      <td>0</td>\n",
       "      <td>0</td>\n",
       "      <td>1</td>\n",
       "      <td>1</td>\n",
       "      <td>-1.398289</td>\n",
       "      <td>...</td>\n",
       "      <td>0</td>\n",
       "      <td>0</td>\n",
       "      <td>1</td>\n",
       "      <td>0</td>\n",
       "      <td>0</td>\n",
       "      <td>1</td>\n",
       "      <td>0</td>\n",
       "      <td>1</td>\n",
       "      <td>0</td>\n",
       "      <td>0</td>\n",
       "    </tr>\n",
       "    <tr>\n",
       "      <th>860</th>\n",
       "      <td>0</td>\n",
       "      <td>1</td>\n",
       "      <td>0</td>\n",
       "      <td>1</td>\n",
       "      <td>0</td>\n",
       "      <td>1</td>\n",
       "      <td>1</td>\n",
       "      <td>1</td>\n",
       "      <td>0</td>\n",
       "      <td>-1.398289</td>\n",
       "      <td>...</td>\n",
       "      <td>0</td>\n",
       "      <td>0</td>\n",
       "      <td>0</td>\n",
       "      <td>1</td>\n",
       "      <td>0</td>\n",
       "      <td>1</td>\n",
       "      <td>0</td>\n",
       "      <td>1</td>\n",
       "      <td>0</td>\n",
       "      <td>0</td>\n",
       "    </tr>\n",
       "    <tr>\n",
       "      <th>7270</th>\n",
       "      <td>1</td>\n",
       "      <td>1</td>\n",
       "      <td>0</td>\n",
       "      <td>1</td>\n",
       "      <td>0</td>\n",
       "      <td>0</td>\n",
       "      <td>1</td>\n",
       "      <td>1</td>\n",
       "      <td>1</td>\n",
       "      <td>0.712015</td>\n",
       "      <td>...</td>\n",
       "      <td>0</td>\n",
       "      <td>1</td>\n",
       "      <td>0</td>\n",
       "      <td>0</td>\n",
       "      <td>1</td>\n",
       "      <td>0</td>\n",
       "      <td>0</td>\n",
       "      <td>0</td>\n",
       "      <td>0</td>\n",
       "      <td>1</td>\n",
       "    </tr>\n",
       "  </tbody>\n",
       "</table>\n",
       "<p>9903 rows × 115 columns</p>\n",
       "</div>"
      ],
      "text/plain": [
       "       travelled_more_than_15mins_for_offer  Prefer western over chinese  \\\n",
       "1691                                      1                            0   \n",
       "8979                                      0                            1   \n",
       "123                                       1                            0   \n",
       "7038                                      0                            1   \n",
       "1952                                      1                            0   \n",
       "...                                     ...                          ...   \n",
       "11964                                     0                            1   \n",
       "5191                                      1                            1   \n",
       "5390                                      1                            1   \n",
       "860                                       0                            1   \n",
       "7270                                      1                            1   \n",
       "\n",
       "       travelled_more_than_25mins_for_offer  \\\n",
       "1691                                      0   \n",
       "8979                                      0   \n",
       "123                                       0   \n",
       "7038                                      0   \n",
       "1952                                      0   \n",
       "...                                     ...   \n",
       "11964                                     0   \n",
       "5191                                      1   \n",
       "5390                                      0   \n",
       "860                                       0   \n",
       "7270                                      0   \n",
       "\n",
       "       travelled_more_than_5mins_for_offer  restuarant_same_direction_house  \\\n",
       "1691                                     1                                1   \n",
       "8979                                     1                                0   \n",
       "123                                      1                                0   \n",
       "7038                                     1                                1   \n",
       "1952                                     1                                1   \n",
       "...                                    ...                              ...   \n",
       "11964                                    1                                1   \n",
       "5191                                     1                                0   \n",
       "5390                                     1                                0   \n",
       "860                                      1                                0   \n",
       "7270                                     1                                0   \n",
       "\n",
       "       Cooks regularly  is foodie  restuarant_opposite_direction_house  \\\n",
       "1691                 0          1                                    0   \n",
       "8979                 1          0                                    1   \n",
       "123                  1          1                                    1   \n",
       "7038                 0          0                                    0   \n",
       "1952                 0          1                                    0   \n",
       "...                ...        ...                                  ...   \n",
       "11964                0          0                                    0   \n",
       "5191                 0          0                                    1   \n",
       "5390                 0          0                                    1   \n",
       "860                  1          1                                    1   \n",
       "7270                 0          1                                    1   \n",
       "\n",
       "       has Children  visit restaurant with rating (avg)  ...  \\\n",
       "1691              1                           -0.694854  ...   \n",
       "8979              0                            1.415450  ...   \n",
       "123               1                            0.712015  ...   \n",
       "7038              1                            1.415450  ...   \n",
       "1952              0                            0.008581  ...   \n",
       "...             ...                                 ...  ...   \n",
       "11964             0                            0.008581  ...   \n",
       "5191              1                            0.712015  ...   \n",
       "5390              1                           -1.398289  ...   \n",
       "860               0                           -1.398289  ...   \n",
       "7270              1                            0.712015  ...   \n",
       "\n",
       "       Restaur_spend_greater_than20_4~8  Restaur_spend_greater_than20_gt8  \\\n",
       "1691                                  0                                 0   \n",
       "8979                                  0                                 0   \n",
       "123                                   0                                 0   \n",
       "7038                                  0                                 0   \n",
       "1952                                  0                                 0   \n",
       "...                                 ...                               ...   \n",
       "11964                                 0                                 0   \n",
       "5191                                  0                                 0   \n",
       "5390                                  0                                 0   \n",
       "860                                   0                                 0   \n",
       "7270                                  0                                 1   \n",
       "\n",
       "       Restaur_spend_greater_than20_less1  Restaur_spend_greater_than20_never  \\\n",
       "1691                                    1                                   0   \n",
       "8979                                    1                                   0   \n",
       "123                                     0                                   0   \n",
       "7038                                    0                                   0   \n",
       "1952                                    0                                   0   \n",
       "...                                   ...                                 ...   \n",
       "11964                                   0                                   0   \n",
       "5191                                    1                                   0   \n",
       "5390                                    1                                   0   \n",
       "860                                     0                                   1   \n",
       "7270                                    0                                   0   \n",
       "\n",
       "       Climate_Spring  Climate_Summer  Climate_Winter  \\\n",
       "1691                0               1               0   \n",
       "8979                1               0               0   \n",
       "123                 1               0               0   \n",
       "7038                0               1               0   \n",
       "1952                0               1               0   \n",
       "...               ...             ...             ...   \n",
       "11964               0               1               0   \n",
       "5191                1               0               0   \n",
       "5390                0               1               0   \n",
       "860                 0               1               0   \n",
       "7270                1               0               0   \n",
       "\n",
       "       drop location_Location A  drop location_Location B  \\\n",
       "1691                          0                         1   \n",
       "8979                          0                         1   \n",
       "123                           1                         0   \n",
       "7038                          0                         0   \n",
       "1952                          0                         1   \n",
       "...                         ...                       ...   \n",
       "11964                         0                         1   \n",
       "5191                          0                         1   \n",
       "5390                          1                         0   \n",
       "860                           1                         0   \n",
       "7270                          0                         0   \n",
       "\n",
       "       drop location_Location C  \n",
       "1691                          0  \n",
       "8979                          0  \n",
       "123                           0  \n",
       "7038                          1  \n",
       "1952                          0  \n",
       "...                         ...  \n",
       "11964                         0  \n",
       "5191                          0  \n",
       "5390                          0  \n",
       "860                           0  \n",
       "7270                          1  \n",
       "\n",
       "[9903 rows x 115 columns]"
      ]
     },
     "execution_count": 35,
     "metadata": {},
     "output_type": "execute_result"
    }
   ],
   "source": [
    "X_train"
   ]
  },
  {
   "cell_type": "code",
   "execution_count": 36,
   "id": "28eda5b3",
   "metadata": {
    "execution": {
     "iopub.execute_input": "2022-11-30T05:28:55.460781Z",
     "iopub.status.busy": "2022-11-30T05:28:55.460214Z",
     "iopub.status.idle": "2022-11-30T05:28:55.468327Z",
     "shell.execute_reply": "2022-11-30T05:28:55.467269Z"
    },
    "papermill": {
     "duration": 0.033227,
     "end_time": "2022-11-30T05:28:55.470680",
     "exception": false,
     "start_time": "2022-11-30T05:28:55.437453",
     "status": "completed"
    },
    "tags": []
   },
   "outputs": [
    {
     "data": {
      "text/plain": [
       "'\\nlr = LogisticRegression(random_state = 42, max_iter = 40000)\\nlr.fit(X_train,Y_train)\\n'"
      ]
     },
     "execution_count": 36,
     "metadata": {},
     "output_type": "execute_result"
    }
   ],
   "source": [
    "#Model 1\n",
    "\"\"\"\n",
    "lr = LogisticRegression(random_state = 42, max_iter = 40000)\n",
    "lr.fit(X_train,Y_train)\n",
    "\"\"\""
   ]
  },
  {
   "cell_type": "code",
   "execution_count": 37,
   "id": "f9435473",
   "metadata": {
    "execution": {
     "iopub.execute_input": "2022-11-30T05:28:55.515640Z",
     "iopub.status.busy": "2022-11-30T05:28:55.514718Z",
     "iopub.status.idle": "2022-11-30T05:28:55.521191Z",
     "shell.execute_reply": "2022-11-30T05:28:55.520305Z"
    },
    "papermill": {
     "duration": 0.031158,
     "end_time": "2022-11-30T05:28:55.523299",
     "exception": false,
     "start_time": "2022-11-30T05:28:55.492141",
     "status": "completed"
    },
    "tags": []
   },
   "outputs": [
    {
     "data": {
      "text/plain": [
       "'\\nY_preds_train = lr.predict(X_train)\\nY_preds = lr.predict(X_test)\\n'"
      ]
     },
     "execution_count": 37,
     "metadata": {},
     "output_type": "execute_result"
    }
   ],
   "source": [
    "\"\"\"\n",
    "Y_preds_train = lr.predict(X_train)\n",
    "Y_preds = lr.predict(X_test)\n",
    "\"\"\""
   ]
  },
  {
   "cell_type": "code",
   "execution_count": 38,
   "id": "5429e022",
   "metadata": {
    "execution": {
     "iopub.execute_input": "2022-11-30T05:28:55.567794Z",
     "iopub.status.busy": "2022-11-30T05:28:55.566894Z",
     "iopub.status.idle": "2022-11-30T05:28:55.574895Z",
     "shell.execute_reply": "2022-11-30T05:28:55.573392Z"
    },
    "papermill": {
     "duration": 0.033565,
     "end_time": "2022-11-30T05:28:55.577714",
     "exception": false,
     "start_time": "2022-11-30T05:28:55.544149",
     "status": "completed"
    },
    "tags": []
   },
   "outputs": [
    {
     "data": {
      "text/plain": [
       "'\\nclr = classification_report(Y_test,Y_preds)\\n'"
      ]
     },
     "execution_count": 38,
     "metadata": {},
     "output_type": "execute_result"
    }
   ],
   "source": [
    "\n",
    "from sklearn.metrics import classification_report\n",
    "\"\"\"\n",
    "clr = classification_report(Y_test,Y_preds)\n",
    "\"\"\""
   ]
  },
  {
   "cell_type": "code",
   "execution_count": 39,
   "id": "961e9c1c",
   "metadata": {
    "execution": {
     "iopub.execute_input": "2022-11-30T05:28:55.623530Z",
     "iopub.status.busy": "2022-11-30T05:28:55.622147Z",
     "iopub.status.idle": "2022-11-30T05:28:55.630010Z",
     "shell.execute_reply": "2022-11-30T05:28:55.628833Z"
    },
    "papermill": {
     "duration": 0.033278,
     "end_time": "2022-11-30T05:28:55.632581",
     "exception": false,
     "start_time": "2022-11-30T05:28:55.599303",
     "status": "completed"
    },
    "tags": []
   },
   "outputs": [
    {
     "data": {
      "text/plain": [
       "'\\nprint(clr)\\n'"
      ]
     },
     "execution_count": 39,
     "metadata": {},
     "output_type": "execute_result"
    }
   ],
   "source": [
    "\"\"\"\n",
    "print(clr)\n",
    "\"\"\""
   ]
  },
  {
   "cell_type": "code",
   "execution_count": 40,
   "id": "521688e8",
   "metadata": {
    "execution": {
     "iopub.execute_input": "2022-11-30T05:28:55.680451Z",
     "iopub.status.busy": "2022-11-30T05:28:55.679510Z",
     "iopub.status.idle": "2022-11-30T05:28:55.687434Z",
     "shell.execute_reply": "2022-11-30T05:28:55.686334Z"
    },
    "papermill": {
     "duration": 0.035058,
     "end_time": "2022-11-30T05:28:55.690044",
     "exception": false,
     "start_time": "2022-11-30T05:28:55.654986",
     "status": "completed"
    },
    "tags": []
   },
   "outputs": [
    {
     "data": {
      "text/plain": [
       "'\\nsvc = SVC(random_state = 42, gamma = 1e-1,C = 10)\\nsvc.fit(X_train,Y_train)\\nY_preds_svc = svc.predict(X_test)\\nclr_svc = classification_report(Y_test,Y_preds_svc)\\nprint(clr_svc)\\n'"
      ]
     },
     "execution_count": 40,
     "metadata": {},
     "output_type": "execute_result"
    }
   ],
   "source": [
    "# Model 2\n",
    "\"\"\"\n",
    "svc = SVC(random_state = 42, gamma = 1e-1,C = 10)\n",
    "svc.fit(X_train,Y_train)\n",
    "Y_preds_svc = svc.predict(X_test)\n",
    "clr_svc = classification_report(Y_test,Y_preds_svc)\n",
    "print(clr_svc)\n",
    "\"\"\""
   ]
  },
  {
   "cell_type": "code",
   "execution_count": 41,
   "id": "e539523c",
   "metadata": {
    "execution": {
     "iopub.execute_input": "2022-11-30T05:28:55.740389Z",
     "iopub.status.busy": "2022-11-30T05:28:55.739540Z",
     "iopub.status.idle": "2022-11-30T05:28:55.745906Z",
     "shell.execute_reply": "2022-11-30T05:28:55.744903Z"
    },
    "papermill": {
     "duration": 0.034152,
     "end_time": "2022-11-30T05:28:55.748147",
     "exception": false,
     "start_time": "2022-11-30T05:28:55.713995",
     "status": "completed"
    },
    "tags": []
   },
   "outputs": [
    {
     "data": {
      "text/plain": [
       "'\\nsvc = SVC(random_state = 42, gamma = 1e-2,C = 100)\\nsvc.fit(X_train,Y_train)\\nY_preds_svc = svc.predict(X_test)\\nclr_svc = classification_report(Y_test,Y_preds_svc)\\nprint(clr_svc)\\n'"
      ]
     },
     "execution_count": 41,
     "metadata": {},
     "output_type": "execute_result"
    }
   ],
   "source": [
    "\"\"\"\n",
    "svc = SVC(random_state = 42, gamma = 1e-2,C = 100)\n",
    "svc.fit(X_train,Y_train)\n",
    "Y_preds_svc = svc.predict(X_test)\n",
    "clr_svc = classification_report(Y_test,Y_preds_svc)\n",
    "print(clr_svc)\n",
    "\"\"\""
   ]
  },
  {
   "cell_type": "code",
   "execution_count": 42,
   "id": "38855471",
   "metadata": {
    "execution": {
     "iopub.execute_input": "2022-11-30T05:28:55.794441Z",
     "iopub.status.busy": "2022-11-30T05:28:55.793565Z",
     "iopub.status.idle": "2022-11-30T05:28:55.800333Z",
     "shell.execute_reply": "2022-11-30T05:28:55.799202Z"
    },
    "papermill": {
     "duration": 0.032488,
     "end_time": "2022-11-30T05:28:55.802882",
     "exception": false,
     "start_time": "2022-11-30T05:28:55.770394",
     "status": "completed"
    },
    "tags": []
   },
   "outputs": [
    {
     "data": {
      "text/plain": [
       "'\\nY_preds_svc_train = svc.predict(X_train)\\n'"
      ]
     },
     "execution_count": 42,
     "metadata": {},
     "output_type": "execute_result"
    }
   ],
   "source": [
    "\"\"\"\n",
    "Y_preds_svc_train = svc.predict(X_train)\n",
    "\"\"\""
   ]
  },
  {
   "cell_type": "code",
   "execution_count": 43,
   "id": "61528ecc",
   "metadata": {
    "execution": {
     "iopub.execute_input": "2022-11-30T05:28:55.848146Z",
     "iopub.status.busy": "2022-11-30T05:28:55.847618Z",
     "iopub.status.idle": "2022-11-30T05:28:55.855977Z",
     "shell.execute_reply": "2022-11-30T05:28:55.854266Z"
    },
    "papermill": {
     "duration": 0.033847,
     "end_time": "2022-11-30T05:28:55.858383",
     "exception": false,
     "start_time": "2022-11-30T05:28:55.824536",
     "status": "completed"
    },
    "tags": []
   },
   "outputs": [
    {
     "data": {
      "text/plain": [
       "'\\nmlp = MLPClassifier(hidden_layer_sizes=(4,8,16,32,64,32,16,8,4),random_state = 42,learning_rate = \"adaptive\",max_iter = 40000)\\nmlp.fit(X_train,Y_train)\\nY_preds_mlp = mlp.predict(X_test)\\nclr_mlp = classification_report(Y_test,Y_preds_mlp)\\nprint(clr_mlp)\\n'"
      ]
     },
     "execution_count": 43,
     "metadata": {},
     "output_type": "execute_result"
    }
   ],
   "source": [
    "#Model 3\n",
    "\"\"\"\n",
    "mlp = MLPClassifier(hidden_layer_sizes=(4,8,16,32,64,32,16,8,4),random_state = 42,learning_rate = \"adaptive\",max_iter = 40000)\n",
    "mlp.fit(X_train,Y_train)\n",
    "Y_preds_mlp = mlp.predict(X_test)\n",
    "clr_mlp = classification_report(Y_test,Y_preds_mlp)\n",
    "print(clr_mlp)\n",
    "\"\"\""
   ]
  },
  {
   "cell_type": "code",
   "execution_count": 44,
   "id": "53912f7a",
   "metadata": {
    "execution": {
     "iopub.execute_input": "2022-11-30T05:28:55.903798Z",
     "iopub.status.busy": "2022-11-30T05:28:55.903295Z",
     "iopub.status.idle": "2022-11-30T05:28:55.910440Z",
     "shell.execute_reply": "2022-11-30T05:28:55.909392Z"
    },
    "papermill": {
     "duration": 0.032718,
     "end_time": "2022-11-30T05:28:55.912779",
     "exception": false,
     "start_time": "2022-11-30T05:28:55.880061",
     "status": "completed"
    },
    "tags": []
   },
   "outputs": [
    {
     "data": {
      "text/plain": [
       "'\\nY_preds_mlp_train = mlp.predict(X_train)\\n'"
      ]
     },
     "execution_count": 44,
     "metadata": {},
     "output_type": "execute_result"
    }
   ],
   "source": [
    "\"\"\"\n",
    "Y_preds_mlp_train = mlp.predict(X_train)\n",
    "\"\"\""
   ]
  },
  {
   "cell_type": "code",
   "execution_count": 45,
   "id": "70a924b8",
   "metadata": {
    "execution": {
     "iopub.execute_input": "2022-11-30T05:28:55.960079Z",
     "iopub.status.busy": "2022-11-30T05:28:55.959656Z",
     "iopub.status.idle": "2022-11-30T05:28:56.069339Z",
     "shell.execute_reply": "2022-11-30T05:28:56.068292Z"
    },
    "papermill": {
     "duration": 0.135119,
     "end_time": "2022-11-30T05:28:56.071531",
     "exception": false,
     "start_time": "2022-11-30T05:28:55.936412",
     "status": "completed"
    },
    "tags": []
   },
   "outputs": [
    {
     "data": {
      "text/plain": [
       "'\\nrfc = RandomForestClassifier(ccp_alpha = 1e-4, random_state = 42)\\nrfc.fit(X_train,Y_train)\\nY_preds_rfc = rfc.predict(X_test)\\nclr_rfc = classification_report(Y_test,Y_preds_rfc)\\nprint(clr_rfc)\\n'"
      ]
     },
     "execution_count": 45,
     "metadata": {},
     "output_type": "execute_result"
    }
   ],
   "source": [
    "from sklearn.ensemble import RandomForestClassifier\n",
    "\"\"\"\n",
    "rfc = RandomForestClassifier(ccp_alpha = 1e-4, random_state = 42)\n",
    "rfc.fit(X_train,Y_train)\n",
    "Y_preds_rfc = rfc.predict(X_test)\n",
    "clr_rfc = classification_report(Y_test,Y_preds_rfc)\n",
    "print(clr_rfc)\n",
    "\"\"\""
   ]
  },
  {
   "cell_type": "code",
   "execution_count": 46,
   "id": "1114c322",
   "metadata": {
    "execution": {
     "iopub.execute_input": "2022-11-30T05:28:56.116927Z",
     "iopub.status.busy": "2022-11-30T05:28:56.116428Z",
     "iopub.status.idle": "2022-11-30T05:28:56.123325Z",
     "shell.execute_reply": "2022-11-30T05:28:56.122353Z"
    },
    "papermill": {
     "duration": 0.03227,
     "end_time": "2022-11-30T05:28:56.125519",
     "exception": false,
     "start_time": "2022-11-30T05:28:56.093249",
     "status": "completed"
    },
    "tags": []
   },
   "outputs": [
    {
     "data": {
      "text/plain": [
       "'\\nY_preds_rfc_train = rfc.predict(X_train)\\n'"
      ]
     },
     "execution_count": 46,
     "metadata": {},
     "output_type": "execute_result"
    }
   ],
   "source": [
    "\"\"\"\n",
    "Y_preds_rfc_train = rfc.predict(X_train)\n",
    "\"\"\""
   ]
  },
  {
   "cell_type": "code",
   "execution_count": 47,
   "id": "4a79b2c9",
   "metadata": {
    "execution": {
     "iopub.execute_input": "2022-11-30T05:28:56.171252Z",
     "iopub.status.busy": "2022-11-30T05:28:56.170829Z",
     "iopub.status.idle": "2022-11-30T05:28:56.179877Z",
     "shell.execute_reply": "2022-11-30T05:28:56.178577Z"
    },
    "papermill": {
     "duration": 0.035027,
     "end_time": "2022-11-30T05:28:56.182570",
     "exception": false,
     "start_time": "2022-11-30T05:28:56.147543",
     "status": "completed"
    },
    "tags": []
   },
   "outputs": [
    {
     "data": {
      "text/plain": [
       "'\\netc = ExtraTreesClassifier(ccp_alpha = 1e-4,random_state = 22)\\netc.fit(X_train,Y_train)\\nY_preds_etc = etc.predict(X_test)\\nclr_etc = classification_report(Y_test,Y_preds_etc)\\nprint(clr_etc)\\n'"
      ]
     },
     "execution_count": 47,
     "metadata": {},
     "output_type": "execute_result"
    }
   ],
   "source": [
    "from sklearn.ensemble import ExtraTreesClassifier\n",
    "\"\"\"\n",
    "etc = ExtraTreesClassifier(ccp_alpha = 1e-4,random_state = 22)\n",
    "etc.fit(X_train,Y_train)\n",
    "Y_preds_etc = etc.predict(X_test)\n",
    "clr_etc = classification_report(Y_test,Y_preds_etc)\n",
    "print(clr_etc)\n",
    "\"\"\""
   ]
  },
  {
   "cell_type": "code",
   "execution_count": 48,
   "id": "f25a08c4",
   "metadata": {
    "execution": {
     "iopub.execute_input": "2022-11-30T05:28:56.228204Z",
     "iopub.status.busy": "2022-11-30T05:28:56.227667Z",
     "iopub.status.idle": "2022-11-30T05:28:56.236147Z",
     "shell.execute_reply": "2022-11-30T05:28:56.234596Z"
    },
    "papermill": {
     "duration": 0.034162,
     "end_time": "2022-11-30T05:28:56.238688",
     "exception": false,
     "start_time": "2022-11-30T05:28:56.204526",
     "status": "completed"
    },
    "tags": []
   },
   "outputs": [
    {
     "data": {
      "text/plain": [
       "'\\nY_preds_etc_train = etc.predict(X_train)\\n'"
      ]
     },
     "execution_count": 48,
     "metadata": {},
     "output_type": "execute_result"
    }
   ],
   "source": [
    "\"\"\"\n",
    "Y_preds_etc_train = etc.predict(X_train)\n",
    "\"\"\""
   ]
  },
  {
   "cell_type": "code",
   "execution_count": 49,
   "id": "2687983a",
   "metadata": {
    "execution": {
     "iopub.execute_input": "2022-11-30T05:28:56.284969Z",
     "iopub.status.busy": "2022-11-30T05:28:56.284593Z",
     "iopub.status.idle": "2022-11-30T05:28:56.292467Z",
     "shell.execute_reply": "2022-11-30T05:28:56.291039Z"
    },
    "papermill": {
     "duration": 0.033747,
     "end_time": "2022-11-30T05:28:56.295091",
     "exception": false,
     "start_time": "2022-11-30T05:28:56.261344",
     "status": "completed"
    },
    "tags": []
   },
   "outputs": [
    {
     "data": {
      "text/plain": [
       "'\\ndtc = DecisionTreeClassifier(ccp_alpha = 0,random_state = 100)\\ndtc.fit(X_train,Y_train)\\nY_preds_dtc = dtc.predict(X_test)\\nclr_dtc = classification_report(Y_test,Y_preds_dtc)\\nprint(clr_dtc)\\n'"
      ]
     },
     "execution_count": 49,
     "metadata": {},
     "output_type": "execute_result"
    }
   ],
   "source": [
    "from sklearn.tree import DecisionTreeClassifier\n",
    "\"\"\"\n",
    "dtc = DecisionTreeClassifier(ccp_alpha = 0,random_state = 100)\n",
    "dtc.fit(X_train,Y_train)\n",
    "Y_preds_dtc = dtc.predict(X_test)\n",
    "clr_dtc = classification_report(Y_test,Y_preds_dtc)\n",
    "print(clr_dtc)\n",
    "\"\"\""
   ]
  },
  {
   "cell_type": "code",
   "execution_count": 50,
   "id": "15432ec5",
   "metadata": {
    "execution": {
     "iopub.execute_input": "2022-11-30T05:28:56.342127Z",
     "iopub.status.busy": "2022-11-30T05:28:56.341753Z",
     "iopub.status.idle": "2022-11-30T05:28:56.349403Z",
     "shell.execute_reply": "2022-11-30T05:28:56.348081Z"
    },
    "papermill": {
     "duration": 0.033864,
     "end_time": "2022-11-30T05:28:56.351959",
     "exception": false,
     "start_time": "2022-11-30T05:28:56.318095",
     "status": "completed"
    },
    "tags": []
   },
   "outputs": [
    {
     "data": {
      "text/plain": [
       "'\\nY_preds_dtc_train = dtc.predict(X_train)\\n'"
      ]
     },
     "execution_count": 50,
     "metadata": {},
     "output_type": "execute_result"
    }
   ],
   "source": [
    "\"\"\"\n",
    "Y_preds_dtc_train = dtc.predict(X_train)\n",
    "\"\"\""
   ]
  },
  {
   "cell_type": "code",
   "execution_count": 51,
   "id": "3ba18d53",
   "metadata": {
    "execution": {
     "iopub.execute_input": "2022-11-30T05:28:56.399517Z",
     "iopub.status.busy": "2022-11-30T05:28:56.398935Z",
     "iopub.status.idle": "2022-11-30T05:28:56.407142Z",
     "shell.execute_reply": "2022-11-30T05:28:56.405928Z"
    },
    "papermill": {
     "duration": 0.035156,
     "end_time": "2022-11-30T05:28:56.409484",
     "exception": false,
     "start_time": "2022-11-30T05:28:56.374328",
     "status": "completed"
    },
    "tags": []
   },
   "outputs": [
    {
     "data": {
      "text/plain": [
       "'\\nabc = AdaBoostClassifier(learning_rate = 1e-6,random_state = 42)\\nabc.fit(X_train,Y_train)\\nY_preds_abc = abc.predict(X_test)\\nclr_abc = classification_report(Y_test,Y_preds_abc)\\nprint(clr_abc)\\n'"
      ]
     },
     "execution_count": 51,
     "metadata": {},
     "output_type": "execute_result"
    }
   ],
   "source": [
    "from sklearn.ensemble import AdaBoostClassifier\n",
    "\"\"\"\n",
    "abc = AdaBoostClassifier(learning_rate = 1e-6,random_state = 42)\n",
    "abc.fit(X_train,Y_train)\n",
    "Y_preds_abc = abc.predict(X_test)\n",
    "clr_abc = classification_report(Y_test,Y_preds_abc)\n",
    "print(clr_abc)\n",
    "\"\"\""
   ]
  },
  {
   "cell_type": "code",
   "execution_count": 52,
   "id": "ae3fe868",
   "metadata": {
    "execution": {
     "iopub.execute_input": "2022-11-30T05:28:56.457673Z",
     "iopub.status.busy": "2022-11-30T05:28:56.456423Z",
     "iopub.status.idle": "2022-11-30T05:28:56.463926Z",
     "shell.execute_reply": "2022-11-30T05:28:56.462909Z"
    },
    "papermill": {
     "duration": 0.03371,
     "end_time": "2022-11-30T05:28:56.466300",
     "exception": false,
     "start_time": "2022-11-30T05:28:56.432590",
     "status": "completed"
    },
    "tags": []
   },
   "outputs": [
    {
     "data": {
      "text/plain": [
       "'\\nY_preds_abc_train = abc.predict(X_train)\\n'"
      ]
     },
     "execution_count": 52,
     "metadata": {},
     "output_type": "execute_result"
    }
   ],
   "source": [
    "\"\"\"\n",
    "Y_preds_abc_train = abc.predict(X_train)\n",
    "\"\"\""
   ]
  },
  {
   "cell_type": "code",
   "execution_count": 53,
   "id": "280282fe",
   "metadata": {
    "execution": {
     "iopub.execute_input": "2022-11-30T05:28:56.513122Z",
     "iopub.status.busy": "2022-11-30T05:28:56.512652Z",
     "iopub.status.idle": "2022-11-30T05:28:56.520309Z",
     "shell.execute_reply": "2022-11-30T05:28:56.519197Z"
    },
    "papermill": {
     "duration": 0.034018,
     "end_time": "2022-11-30T05:28:56.522567",
     "exception": false,
     "start_time": "2022-11-30T05:28:56.488549",
     "status": "completed"
    },
    "tags": []
   },
   "outputs": [
    {
     "data": {
      "text/plain": [
       "'\\nbc = BaggingClassifier(random_state = 42)\\nbc.fit(X_train,Y_train)\\nY_preds_bc = bc.predict(X_test)\\nclr_bc = classification_report(Y_test,Y_preds_bc)\\nprint(clr_bc)\\n'"
      ]
     },
     "execution_count": 53,
     "metadata": {},
     "output_type": "execute_result"
    }
   ],
   "source": [
    "from sklearn.ensemble import BaggingClassifier\n",
    "\"\"\"\n",
    "bc = BaggingClassifier(random_state = 42)\n",
    "bc.fit(X_train,Y_train)\n",
    "Y_preds_bc = bc.predict(X_test)\n",
    "clr_bc = classification_report(Y_test,Y_preds_bc)\n",
    "print(clr_bc)\n",
    "\"\"\""
   ]
  },
  {
   "cell_type": "code",
   "execution_count": 54,
   "id": "8cc2b79e",
   "metadata": {
    "execution": {
     "iopub.execute_input": "2022-11-30T05:28:56.571581Z",
     "iopub.status.busy": "2022-11-30T05:28:56.570970Z",
     "iopub.status.idle": "2022-11-30T05:28:56.579481Z",
     "shell.execute_reply": "2022-11-30T05:28:56.578267Z"
    },
    "papermill": {
     "duration": 0.035232,
     "end_time": "2022-11-30T05:28:56.581856",
     "exception": false,
     "start_time": "2022-11-30T05:28:56.546624",
     "status": "completed"
    },
    "tags": []
   },
   "outputs": [
    {
     "data": {
      "text/plain": [
       "'\\nY_preds_bc_train = bc.predict(X_train)\\n'"
      ]
     },
     "execution_count": 54,
     "metadata": {},
     "output_type": "execute_result"
    }
   ],
   "source": [
    "\"\"\"\n",
    "Y_preds_bc_train = bc.predict(X_train)\n",
    "\"\"\""
   ]
  },
  {
   "cell_type": "code",
   "execution_count": 55,
   "id": "97b75a5c",
   "metadata": {
    "execution": {
     "iopub.execute_input": "2022-11-30T05:28:56.629862Z",
     "iopub.status.busy": "2022-11-30T05:28:56.629397Z",
     "iopub.status.idle": "2022-11-30T05:28:56.636487Z",
     "shell.execute_reply": "2022-11-30T05:28:56.635140Z"
    },
    "papermill": {
     "duration": 0.033904,
     "end_time": "2022-11-30T05:28:56.638730",
     "exception": false,
     "start_time": "2022-11-30T05:28:56.604826",
     "status": "completed"
    },
    "tags": []
   },
   "outputs": [
    {
     "data": {
      "text/plain": [
       "'\\ngbc = GradientBoostingClassifier(ccp_alpha = 1e-6,random_state = 42)\\ngbc.fit(X_train,Y_train)\\nY_preds_gbc = gbc.predict(X_test)\\nclr_gbc = classification_report(Y_test,Y_preds_gbc)\\nprint(clr_gbc)\\n'"
      ]
     },
     "execution_count": 55,
     "metadata": {},
     "output_type": "execute_result"
    }
   ],
   "source": [
    "from sklearn.ensemble import GradientBoostingClassifier\n",
    "\"\"\"\n",
    "gbc = GradientBoostingClassifier(ccp_alpha = 1e-6,random_state = 42)\n",
    "gbc.fit(X_train,Y_train)\n",
    "Y_preds_gbc = gbc.predict(X_test)\n",
    "clr_gbc = classification_report(Y_test,Y_preds_gbc)\n",
    "print(clr_gbc)\n",
    "\"\"\""
   ]
  },
  {
   "cell_type": "code",
   "execution_count": 56,
   "id": "9a6c6d6b",
   "metadata": {
    "execution": {
     "iopub.execute_input": "2022-11-30T05:28:56.687470Z",
     "iopub.status.busy": "2022-11-30T05:28:56.686062Z",
     "iopub.status.idle": "2022-11-30T05:28:56.694199Z",
     "shell.execute_reply": "2022-11-30T05:28:56.692757Z"
    },
    "papermill": {
     "duration": 0.035191,
     "end_time": "2022-11-30T05:28:56.696964",
     "exception": false,
     "start_time": "2022-11-30T05:28:56.661773",
     "status": "completed"
    },
    "tags": []
   },
   "outputs": [
    {
     "data": {
      "text/plain": [
       "'\\nY_preds_gbc_train = gbc.predict(X_train)\\n'"
      ]
     },
     "execution_count": 56,
     "metadata": {},
     "output_type": "execute_result"
    }
   ],
   "source": [
    "\"\"\"\n",
    "Y_preds_gbc_train = gbc.predict(X_train)\n",
    "\"\"\""
   ]
  },
  {
   "cell_type": "code",
   "execution_count": 57,
   "id": "cc084814",
   "metadata": {
    "execution": {
     "iopub.execute_input": "2022-11-30T05:28:56.754702Z",
     "iopub.status.busy": "2022-11-30T05:28:56.753346Z",
     "iopub.status.idle": "2022-11-30T05:28:57.994623Z",
     "shell.execute_reply": "2022-11-30T05:28:57.993654Z"
    },
    "papermill": {
     "duration": 1.275648,
     "end_time": "2022-11-30T05:28:57.997338",
     "exception": false,
     "start_time": "2022-11-30T05:28:56.721690",
     "status": "completed"
    },
    "tags": []
   },
   "outputs": [
    {
     "name": "stdout",
     "output_type": "stream",
     "text": [
      "              precision    recall  f1-score   support\n",
      "\n",
      "           0       0.78      0.56      0.65      1105\n",
      "           1       0.71      0.87      0.78      1371\n",
      "\n",
      "    accuracy                           0.73      2476\n",
      "   macro avg       0.75      0.72      0.72      2476\n",
      "weighted avg       0.74      0.73      0.73      2476\n",
      "\n"
     ]
    }
   ],
   "source": [
    "from sklearn.ensemble import HistGradientBoostingClassifier\n",
    "\n",
    "hgbc = HistGradientBoostingClassifier(learning_rate= 0.1, max_iter= 100, max_leaf_nodes= 25, random_state= 10,l2_regularization = 0.01,validation_fraction = 0.1,min_samples_leaf = 20)\n",
    "hgbc.fit(X,Y)\n",
    "Y_preds_hgbc = hgbc.predict(X_test)\n",
    "clr_hgbc = classification_report(Y_test,Y_preds_hgbc)\n",
    "print(clr_hgbc)"
   ]
  },
  {
   "cell_type": "code",
   "execution_count": 58,
   "id": "6d2effa7",
   "metadata": {
    "execution": {
     "iopub.execute_input": "2022-11-30T05:28:58.046560Z",
     "iopub.status.busy": "2022-11-30T05:28:58.046173Z",
     "iopub.status.idle": "2022-11-30T05:28:58.050977Z",
     "shell.execute_reply": "2022-11-30T05:28:58.049741Z"
    },
    "papermill": {
     "duration": 0.031264,
     "end_time": "2022-11-30T05:28:58.053055",
     "exception": false,
     "start_time": "2022-11-30T05:28:58.021791",
     "status": "completed"
    },
    "tags": []
   },
   "outputs": [],
   "source": [
    "#a = HistGradientBoostingClassifier()"
   ]
  },
  {
   "cell_type": "code",
   "execution_count": 59,
   "id": "b993c262",
   "metadata": {
    "execution": {
     "iopub.execute_input": "2022-11-30T05:28:58.100471Z",
     "iopub.status.busy": "2022-11-30T05:28:58.100045Z",
     "iopub.status.idle": "2022-11-30T05:28:58.107519Z",
     "shell.execute_reply": "2022-11-30T05:28:58.106250Z"
    },
    "papermill": {
     "duration": 0.0342,
     "end_time": "2022-11-30T05:28:58.110160",
     "exception": false,
     "start_time": "2022-11-30T05:28:58.075960",
     "status": "completed"
    },
    "tags": []
   },
   "outputs": [
    {
     "data": {
      "text/plain": [
       "'\\nparam_grid = {\"learning_rate\":[0.1,0.05],\"max_iter\":[100,200], \"max_leaf_nodes\" : [20,31,42],\"random_state\":[10,42]}\\nskf = StratifiedKFold(shuffle = True,random_state = 0)\\nfrom sklearn.model_selection import StratifiedShuffleSplit\\nsss = StratifiedShuffleSplit(test_size = 0.2, random_state = 42)\\nsearch = GridSearchCV(a,param_grid,cv =sss)\\nsearch.fit(X,Y)\\n'"
      ]
     },
     "execution_count": 59,
     "metadata": {},
     "output_type": "execute_result"
    }
   ],
   "source": [
    "from sklearn.model_selection import GridSearchCV\n",
    "\"\"\"\n",
    "param_grid = {\"learning_rate\":[0.1,0.05],\"max_iter\":[100,200], \"max_leaf_nodes\" : [20,31,42],\"random_state\":[10,42]}\n",
    "skf = StratifiedKFold(shuffle = True,random_state = 0)\n",
    "from sklearn.model_selection import StratifiedShuffleSplit\n",
    "sss = StratifiedShuffleSplit(test_size = 0.2, random_state = 42)\n",
    "search = GridSearchCV(a,param_grid,cv =sss)\n",
    "search.fit(X,Y)\n",
    "\"\"\""
   ]
  },
  {
   "cell_type": "code",
   "execution_count": 60,
   "id": "2fbdc3db",
   "metadata": {
    "execution": {
     "iopub.execute_input": "2022-11-30T05:28:58.158483Z",
     "iopub.status.busy": "2022-11-30T05:28:58.157510Z",
     "iopub.status.idle": "2022-11-30T05:28:58.164564Z",
     "shell.execute_reply": "2022-11-30T05:28:58.163442Z"
    },
    "papermill": {
     "duration": 0.033263,
     "end_time": "2022-11-30T05:28:58.166728",
     "exception": false,
     "start_time": "2022-11-30T05:28:58.133465",
     "status": "completed"
    },
    "tags": []
   },
   "outputs": [
    {
     "data": {
      "text/plain": [
       "'\\nsearch_preds = search.predict(X_test)\\nclr_search = classification_report(Y_test,search_preds)\\nprint(clr_search)\\n'"
      ]
     },
     "execution_count": 60,
     "metadata": {},
     "output_type": "execute_result"
    }
   ],
   "source": [
    "\"\"\"\n",
    "search_preds = search.predict(X_test)\n",
    "clr_search = classification_report(Y_test,search_preds)\n",
    "print(clr_search)\n",
    "\"\"\""
   ]
  },
  {
   "cell_type": "code",
   "execution_count": 61,
   "id": "eba426b1",
   "metadata": {
    "execution": {
     "iopub.execute_input": "2022-11-30T05:28:58.215267Z",
     "iopub.status.busy": "2022-11-30T05:28:58.214851Z",
     "iopub.status.idle": "2022-11-30T05:28:58.221632Z",
     "shell.execute_reply": "2022-11-30T05:28:58.220354Z"
    },
    "papermill": {
     "duration": 0.033761,
     "end_time": "2022-11-30T05:28:58.223911",
     "exception": false,
     "start_time": "2022-11-30T05:28:58.190150",
     "status": "completed"
    },
    "tags": []
   },
   "outputs": [
    {
     "data": {
      "text/plain": [
       "'\\nprint(search.best_params_)\\n'"
      ]
     },
     "execution_count": 61,
     "metadata": {},
     "output_type": "execute_result"
    }
   ],
   "source": [
    "\"\"\"\n",
    "print(search.best_params_)\n",
    "\"\"\""
   ]
  },
  {
   "cell_type": "code",
   "execution_count": 62,
   "id": "a5459881",
   "metadata": {
    "execution": {
     "iopub.execute_input": "2022-11-30T05:28:58.273814Z",
     "iopub.status.busy": "2022-11-30T05:28:58.273417Z",
     "iopub.status.idle": "2022-11-30T05:28:58.279739Z",
     "shell.execute_reply": "2022-11-30T05:28:58.278733Z"
    },
    "papermill": {
     "duration": 0.034618,
     "end_time": "2022-11-30T05:28:58.281838",
     "exception": false,
     "start_time": "2022-11-30T05:28:58.247220",
     "status": "completed"
    },
    "tags": []
   },
   "outputs": [
    {
     "data": {
      "text/plain": [
       "'\\nY_preds_hgbc_train = hgbc.predict(X_train)\\n'"
      ]
     },
     "execution_count": 62,
     "metadata": {},
     "output_type": "execute_result"
    }
   ],
   "source": [
    "\"\"\"\n",
    "Y_preds_hgbc_train = hgbc.predict(X_train)\n",
    "\"\"\""
   ]
  },
  {
   "cell_type": "code",
   "execution_count": 63,
   "id": "6f12a4a1",
   "metadata": {
    "execution": {
     "iopub.execute_input": "2022-11-30T05:28:58.330245Z",
     "iopub.status.busy": "2022-11-30T05:28:58.329838Z",
     "iopub.status.idle": "2022-11-30T05:28:58.336652Z",
     "shell.execute_reply": "2022-11-30T05:28:58.335653Z"
    },
    "papermill": {
     "duration": 0.03363,
     "end_time": "2022-11-30T05:28:58.338870",
     "exception": false,
     "start_time": "2022-11-30T05:28:58.305240",
     "status": "completed"
    },
    "tags": []
   },
   "outputs": [
    {
     "data": {
      "text/plain": [
       "'\\nresults = pd.DataFrame()\\nresults[\"Logistic\"] = Y_preds\\nresults[\"SVC\"] = Y_preds_svc\\nresults[\"MLP\"] = Y_preds_mlp\\nresults[\"RFC\"] = Y_preds_rfc\\nresults[\"ETC\"] = Y_preds_etc\\nresults[\"DTC\"] = Y_preds_dtc\\nresults[\"ABC\"] = Y_preds_abc\\nresults[\"BC\"] = Y_preds_bc\\nresults[\"GBC\"] = Y_preds_gbc\\nresults[\"HGBC\"] = Y_preds_hgbc\\n'"
      ]
     },
     "execution_count": 63,
     "metadata": {},
     "output_type": "execute_result"
    }
   ],
   "source": [
    "#Create a new dataframe that uses the predictions of all these classifiers and then finally applies an MLP to hopefully get better results.\n",
    "\"\"\"\n",
    "results = pd.DataFrame()\n",
    "results[\"Logistic\"] = Y_preds\n",
    "results[\"SVC\"] = Y_preds_svc\n",
    "results[\"MLP\"] = Y_preds_mlp\n",
    "results[\"RFC\"] = Y_preds_rfc\n",
    "results[\"ETC\"] = Y_preds_etc\n",
    "results[\"DTC\"] = Y_preds_dtc\n",
    "results[\"ABC\"] = Y_preds_abc\n",
    "results[\"BC\"] = Y_preds_bc\n",
    "results[\"GBC\"] = Y_preds_gbc\n",
    "results[\"HGBC\"] = Y_preds_hgbc\n",
    "\"\"\""
   ]
  },
  {
   "cell_type": "code",
   "execution_count": 64,
   "id": "219b4fcf",
   "metadata": {
    "execution": {
     "iopub.execute_input": "2022-11-30T05:28:58.388514Z",
     "iopub.status.busy": "2022-11-30T05:28:58.388073Z",
     "iopub.status.idle": "2022-11-30T05:28:58.393999Z",
     "shell.execute_reply": "2022-11-30T05:28:58.393134Z"
    },
    "papermill": {
     "duration": 0.033777,
     "end_time": "2022-11-30T05:28:58.396071",
     "exception": false,
     "start_time": "2022-11-30T05:28:58.362294",
     "status": "completed"
    },
    "tags": []
   },
   "outputs": [
    {
     "data": {
      "text/plain": [
       "'\\ntrain_results = pd.DataFrame()\\ntrain_results[\"Logistic\"] = Y_preds_train\\ntrain_results[\"SVC\"] = Y_preds_svc_train\\ntrain_results[\"MLP\"] = Y_preds_mlp_train\\ntrain_results[\"RFC\"] = Y_preds_rfc_train\\ntrain_results[\"ETC\"] = Y_preds_etc_train\\ntrain_results[\"DTC\"] = Y_preds_dtc_train\\ntrain_results[\"ABC\"] = Y_preds_abc_train\\ntrain_results[\"BC\"] = Y_preds_bc_train\\ntrain_results[\"GBC\"] = Y_preds_gbc_train\\ntrain_results[\"HGBC\"] = Y_preds_hgbc_train\\n'"
      ]
     },
     "execution_count": 64,
     "metadata": {},
     "output_type": "execute_result"
    }
   ],
   "source": [
    "\"\"\"\n",
    "train_results = pd.DataFrame()\n",
    "train_results[\"Logistic\"] = Y_preds_train\n",
    "train_results[\"SVC\"] = Y_preds_svc_train\n",
    "train_results[\"MLP\"] = Y_preds_mlp_train\n",
    "train_results[\"RFC\"] = Y_preds_rfc_train\n",
    "train_results[\"ETC\"] = Y_preds_etc_train\n",
    "train_results[\"DTC\"] = Y_preds_dtc_train\n",
    "train_results[\"ABC\"] = Y_preds_abc_train\n",
    "train_results[\"BC\"] = Y_preds_bc_train\n",
    "train_results[\"GBC\"] = Y_preds_gbc_train\n",
    "train_results[\"HGBC\"] = Y_preds_hgbc_train\n",
    "\"\"\""
   ]
  },
  {
   "cell_type": "code",
   "execution_count": 65,
   "id": "3426809e",
   "metadata": {
    "execution": {
     "iopub.execute_input": "2022-11-30T05:28:58.445663Z",
     "iopub.status.busy": "2022-11-30T05:28:58.445180Z",
     "iopub.status.idle": "2022-11-30T05:28:58.452813Z",
     "shell.execute_reply": "2022-11-30T05:28:58.451766Z"
    },
    "papermill": {
     "duration": 0.034855,
     "end_time": "2022-11-30T05:28:58.454965",
     "exception": false,
     "start_time": "2022-11-30T05:28:58.420110",
     "status": "completed"
    },
    "tags": []
   },
   "outputs": [
    {
     "data": {
      "text/plain": [
       "'\\nX_train_final = train_results\\nY_train_final = Y_train.copy()\\nX_test_final = results\\nY_test_final = Y_test.copy()\\nmlp_final = MLPClassifier(hidden_layer_sizes=(4,8,16,32,64,32,16,8,4),random_state = 42,learning_rate = \"invscaling\",max_iter = 40000)\\nmlp_final.fit(X_train_final,Y_train_final)\\nY_preds_final = mlp_final.predict(X_test_final)\\nclr_final = classification_report(Y_test_final,Y_preds_final)\\nprint(clr_final)\\n'"
      ]
     },
     "execution_count": 65,
     "metadata": {},
     "output_type": "execute_result"
    }
   ],
   "source": [
    "\"\"\"\n",
    "X_train_final = train_results\n",
    "Y_train_final = Y_train.copy()\n",
    "X_test_final = results\n",
    "Y_test_final = Y_test.copy()\n",
    "mlp_final = MLPClassifier(hidden_layer_sizes=(4,8,16,32,64,32,16,8,4),random_state = 42,learning_rate = \"invscaling\",max_iter = 40000)\n",
    "mlp_final.fit(X_train_final,Y_train_final)\n",
    "Y_preds_final = mlp_final.predict(X_test_final)\n",
    "clr_final = classification_report(Y_test_final,Y_preds_final)\n",
    "print(clr_final)\n",
    "\"\"\""
   ]
  },
  {
   "cell_type": "markdown",
   "id": "d2b38aee",
   "metadata": {
    "papermill": {
     "duration": 0.023074,
     "end_time": "2022-11-30T05:28:58.501669",
     "exception": false,
     "start_time": "2022-11-30T05:28:58.478595",
     "status": "completed"
    },
    "tags": []
   },
   "source": [
    "## For submission:"
   ]
  },
  {
   "cell_type": "code",
   "execution_count": 66,
   "id": "353d320d",
   "metadata": {
    "execution": {
     "iopub.execute_input": "2022-11-30T05:28:58.550628Z",
     "iopub.status.busy": "2022-11-30T05:28:58.550132Z",
     "iopub.status.idle": "2022-11-30T05:28:58.599298Z",
     "shell.execute_reply": "2022-11-30T05:28:58.597740Z"
    },
    "papermill": {
     "duration": 0.076969,
     "end_time": "2022-11-30T05:28:58.602049",
     "exception": false,
     "start_time": "2022-11-30T05:28:58.525080",
     "status": "completed"
    },
    "tags": []
   },
   "outputs": [],
   "source": [
    "test_data = pd.read_csv(r\"../input/marketing-strategy-personalised-offer/test_data.csv\")"
   ]
  },
  {
   "cell_type": "code",
   "execution_count": 67,
   "id": "2cca2f4f",
   "metadata": {
    "execution": {
     "iopub.execute_input": "2022-11-30T05:28:58.653055Z",
     "iopub.status.busy": "2022-11-30T05:28:58.652594Z",
     "iopub.status.idle": "2022-11-30T05:28:58.661186Z",
     "shell.execute_reply": "2022-11-30T05:28:58.659885Z"
    },
    "papermill": {
     "duration": 0.037762,
     "end_time": "2022-11-30T05:28:58.664356",
     "exception": false,
     "start_time": "2022-11-30T05:28:58.626594",
     "status": "completed"
    },
    "tags": []
   },
   "outputs": [
    {
     "data": {
      "text/plain": [
       "5305"
      ]
     },
     "execution_count": 67,
     "metadata": {},
     "output_type": "execute_result"
    }
   ],
   "source": [
    "len(test_data)"
   ]
  },
  {
   "cell_type": "code",
   "execution_count": 68,
   "id": "75e54e96",
   "metadata": {
    "execution": {
     "iopub.execute_input": "2022-11-30T05:28:58.716118Z",
     "iopub.status.busy": "2022-11-30T05:28:58.715660Z",
     "iopub.status.idle": "2022-11-30T05:28:58.729061Z",
     "shell.execute_reply": "2022-11-30T05:28:58.727381Z"
    },
    "papermill": {
     "duration": 0.042602,
     "end_time": "2022-11-30T05:28:58.731777",
     "exception": false,
     "start_time": "2022-11-30T05:28:58.689175",
     "status": "completed"
    },
    "tags": []
   },
   "outputs": [],
   "source": [
    "test_data[\"no_visited_Cold drinks\"].replace(np.nan,\"less1\", inplace = True)\n",
    "test_data[\"Restaur_spend_less_than20\"].replace(np.nan,\"1~3\", inplace = True)\n",
    "test_data[\"no_visited_bars\"].replace(np.nan,\"never\", inplace = True)\n",
    "test_data[\"car\"].replace(np.nan,\"Car that is too old to install Onstar :D\", inplace = True)\n",
    "test_data[\"no_Take-aways\"].replace(np.nan,\"1~3\",inplace = True)\n",
    "test_data[\"Restaur_spend_greater_than20\"].replace(np.nan,\"less1\",inplace = True)"
   ]
  },
  {
   "cell_type": "code",
   "execution_count": 69,
   "id": "0ac1cdf7",
   "metadata": {
    "execution": {
     "iopub.execute_input": "2022-11-30T05:28:58.785557Z",
     "iopub.status.busy": "2022-11-30T05:28:58.784568Z",
     "iopub.status.idle": "2022-11-30T05:28:58.799272Z",
     "shell.execute_reply": "2022-11-30T05:28:58.798120Z"
    },
    "papermill": {
     "duration": 0.043989,
     "end_time": "2022-11-30T05:28:58.801442",
     "exception": false,
     "start_time": "2022-11-30T05:28:58.757453",
     "status": "completed"
    },
    "tags": []
   },
   "outputs": [
    {
     "data": {
      "text/plain": [
       "offer expiration                        0\n",
       "income_range                            0\n",
       "no_visited_Cold drinks                  0\n",
       "travelled_more_than_15mins_for_offer    0\n",
       "Restaur_spend_less_than20               0\n",
       "Marital Status                          0\n",
       "restaurant type                         0\n",
       "age                                     0\n",
       "Prefer western over chinese             0\n",
       "travelled_more_than_25mins_for_offer    0\n",
       "travelled_more_than_5mins_for_offer     0\n",
       "no_visited_bars                         0\n",
       "gender                                  0\n",
       "car                                     0\n",
       "restuarant_same_direction_house         0\n",
       "Cooks regularly                         0\n",
       "Customer type                           0\n",
       "Qualification                           0\n",
       "is foodie                               0\n",
       "no_Take-aways                           0\n",
       "Job/Job Industry                        0\n",
       "restuarant_opposite_direction_house     0\n",
       "has Children                            0\n",
       "visit restaurant with rating (avg)      0\n",
       "temperature                             0\n",
       "Restaur_spend_greater_than20            0\n",
       "Travel Time                             0\n",
       "Climate                                 0\n",
       "drop location                           0\n",
       "Prefer home food                        0\n",
       "dtype: int64"
      ]
     },
     "execution_count": 69,
     "metadata": {},
     "output_type": "execute_result"
    }
   ],
   "source": [
    "test_data.isna().sum()"
   ]
  },
  {
   "cell_type": "code",
   "execution_count": 70,
   "id": "8a0286da",
   "metadata": {
    "execution": {
     "iopub.execute_input": "2022-11-30T05:28:58.854068Z",
     "iopub.status.busy": "2022-11-30T05:28:58.853596Z",
     "iopub.status.idle": "2022-11-30T05:28:58.892943Z",
     "shell.execute_reply": "2022-11-30T05:28:58.891400Z"
    },
    "papermill": {
     "duration": 0.068988,
     "end_time": "2022-11-30T05:28:58.895955",
     "exception": false,
     "start_time": "2022-11-30T05:28:58.826967",
     "status": "completed"
    },
    "tags": []
   },
   "outputs": [],
   "source": [
    "test_data[\"temperature\"] = ss.transform(test_data[\"temperature\"].values.reshape(-1,1))\n",
    "test_data[\"Travel Time\"] = ss2.transform(test_data[\"Travel Time\"].values.reshape(-1,1))\n",
    "#test_data[\"visit restaurant with rating (avg)\"] = ss3.transform(test_data[\"visit restaurant with rating (avg)\"].values.reshape(-1,1))\n",
    "test_data_numerical = pd.get_dummies(test_data)\n",
    "X_test_new = test_data_numerical"
   ]
  },
  {
   "cell_type": "code",
   "execution_count": 71,
   "id": "eb89f7ce",
   "metadata": {
    "execution": {
     "iopub.execute_input": "2022-11-30T05:28:58.946331Z",
     "iopub.status.busy": "2022-11-30T05:28:58.945850Z",
     "iopub.status.idle": "2022-11-30T05:28:58.953469Z",
     "shell.execute_reply": "2022-11-30T05:28:58.952298Z"
    },
    "papermill": {
     "duration": 0.036055,
     "end_time": "2022-11-30T05:28:58.955916",
     "exception": false,
     "start_time": "2022-11-30T05:28:58.919861",
     "status": "completed"
    },
    "tags": []
   },
   "outputs": [
    {
     "data": {
      "text/plain": [
       "'\\ntest_results = pd.DataFrame()\\ntest_results[\"Logistic\"] = lr.predict(X_test_new)\\ntest_results[\"SVC\"] = svc.predict(X_test_new)\\ntest_results[\"MLP\"] = mlp.predict(X_test_new)\\ntest_results[\"RFC\"] = rfc.predict(X_test_new)\\ntest_results[\"ETC\"] = etc.predict(X_test_new)\\ntest_results[\"DTC\"] = dtc.predict(X_test_new)\\ntest_results[\"ABC\"] = abc.predict(X_test_new)\\ntest_results[\"BC\"] = bc.predict(X_test_new)\\ntest_results[\"GBC\"] = gbc.predict(X_test_new)\\ntest_results[\"HGBC\"] = hgbc.predict(X_test_new)\\n'"
      ]
     },
     "execution_count": 71,
     "metadata": {},
     "output_type": "execute_result"
    }
   ],
   "source": [
    "\"\"\"\n",
    "test_results = pd.DataFrame()\n",
    "test_results[\"Logistic\"] = lr.predict(X_test_new)\n",
    "test_results[\"SVC\"] = svc.predict(X_test_new)\n",
    "test_results[\"MLP\"] = mlp.predict(X_test_new)\n",
    "test_results[\"RFC\"] = rfc.predict(X_test_new)\n",
    "test_results[\"ETC\"] = etc.predict(X_test_new)\n",
    "test_results[\"DTC\"] = dtc.predict(X_test_new)\n",
    "test_results[\"ABC\"] = abc.predict(X_test_new)\n",
    "test_results[\"BC\"] = bc.predict(X_test_new)\n",
    "test_results[\"GBC\"] = gbc.predict(X_test_new)\n",
    "test_results[\"HGBC\"] = hgbc.predict(X_test_new)\n",
    "\"\"\""
   ]
  },
  {
   "cell_type": "code",
   "execution_count": 72,
   "id": "14f42529",
   "metadata": {
    "execution": {
     "iopub.execute_input": "2022-11-30T05:28:59.006463Z",
     "iopub.status.busy": "2022-11-30T05:28:59.005950Z",
     "iopub.status.idle": "2022-11-30T05:28:59.012979Z",
     "shell.execute_reply": "2022-11-30T05:28:59.012060Z"
    },
    "papermill": {
     "duration": 0.035283,
     "end_time": "2022-11-30T05:28:59.015209",
     "exception": false,
     "start_time": "2022-11-30T05:28:58.979926",
     "status": "completed"
    },
    "tags": []
   },
   "outputs": [
    {
     "data": {
      "text/plain": [
       "'\\ntesting_final = test_results.copy()\\nY_preds_test = mlp_final.predict(testing_final)\\n'"
      ]
     },
     "execution_count": 72,
     "metadata": {},
     "output_type": "execute_result"
    }
   ],
   "source": [
    "\"\"\"\n",
    "testing_final = test_results.copy()\n",
    "Y_preds_test = mlp_final.predict(testing_final)\n",
    "\"\"\""
   ]
  },
  {
   "cell_type": "code",
   "execution_count": 73,
   "id": "b0e90e3f",
   "metadata": {
    "execution": {
     "iopub.execute_input": "2022-11-30T05:28:59.067239Z",
     "iopub.status.busy": "2022-11-30T05:28:59.066767Z",
     "iopub.status.idle": "2022-11-30T05:28:59.073934Z",
     "shell.execute_reply": "2022-11-30T05:28:59.072698Z"
    },
    "papermill": {
     "duration": 0.035977,
     "end_time": "2022-11-30T05:28:59.076390",
     "exception": false,
     "start_time": "2022-11-30T05:28:59.040413",
     "status": "completed"
    },
    "tags": []
   },
   "outputs": [
    {
     "data": {
      "text/plain": [
       "'\\nsample = pd.read_csv(r\"../input/marketing-strategy-personalised-offer/sample.csv\")\\nsample.columns\\n'"
      ]
     },
     "execution_count": 73,
     "metadata": {},
     "output_type": "execute_result"
    }
   ],
   "source": [
    "\"\"\"\n",
    "sample = pd.read_csv(r\"../input/marketing-strategy-personalised-offer/sample.csv\")\n",
    "sample.columns\n",
    "\"\"\""
   ]
  },
  {
   "cell_type": "code",
   "execution_count": 74,
   "id": "c820ca99",
   "metadata": {
    "execution": {
     "iopub.execute_input": "2022-11-30T05:28:59.127202Z",
     "iopub.status.busy": "2022-11-30T05:28:59.126723Z",
     "iopub.status.idle": "2022-11-30T05:28:59.132310Z",
     "shell.execute_reply": "2022-11-30T05:28:59.130894Z"
    },
    "papermill": {
     "duration": 0.033946,
     "end_time": "2022-11-30T05:28:59.134963",
     "exception": false,
     "start_time": "2022-11-30T05:28:59.101017",
     "status": "completed"
    },
    "tags": []
   },
   "outputs": [],
   "source": [
    "#sample"
   ]
  },
  {
   "cell_type": "code",
   "execution_count": 75,
   "id": "6075a948",
   "metadata": {
    "execution": {
     "iopub.execute_input": "2022-11-30T05:28:59.185690Z",
     "iopub.status.busy": "2022-11-30T05:28:59.185138Z",
     "iopub.status.idle": "2022-11-30T05:28:59.251335Z",
     "shell.execute_reply": "2022-11-30T05:28:59.249967Z"
    },
    "papermill": {
     "duration": 0.094684,
     "end_time": "2022-11-30T05:28:59.254040",
     "exception": false,
     "start_time": "2022-11-30T05:28:59.159356",
     "status": "completed"
    },
    "tags": []
   },
   "outputs": [],
   "source": [
    "outs = pd.DataFrame()\n",
    "only_hgbc = hgbc.predict(X_test_new)\n",
    "#only_mlp = mlp.predict(X_test_new)\n",
    "outs[\"id\"] = [i for i in range(len(only_hgbc))]\n",
    "outs[\"Offer Accepted\"] = [\"Yes\" if item == 1 else \"No\" for item in only_hgbc]"
   ]
  },
  {
   "cell_type": "code",
   "execution_count": 76,
   "id": "d3e1c62f",
   "metadata": {
    "execution": {
     "iopub.execute_input": "2022-11-30T05:28:59.304123Z",
     "iopub.status.busy": "2022-11-30T05:28:59.303723Z",
     "iopub.status.idle": "2022-11-30T05:28:59.309852Z",
     "shell.execute_reply": "2022-11-30T05:28:59.308464Z"
    },
    "papermill": {
     "duration": 0.034585,
     "end_time": "2022-11-30T05:28:59.312714",
     "exception": false,
     "start_time": "2022-11-30T05:28:59.278129",
     "status": "completed"
    },
    "tags": []
   },
   "outputs": [
    {
     "name": "stdout",
     "output_type": "stream",
     "text": [
      "Finally Submitting to competition!\n"
     ]
    }
   ],
   "source": [
    "print(\"Finally Submitting to competition!\")"
   ]
  },
  {
   "cell_type": "code",
   "execution_count": 77,
   "id": "8c2712d8",
   "metadata": {
    "execution": {
     "iopub.execute_input": "2022-11-30T05:28:59.363666Z",
     "iopub.status.busy": "2022-11-30T05:28:59.363225Z",
     "iopub.status.idle": "2022-11-30T05:28:59.377800Z",
     "shell.execute_reply": "2022-11-30T05:28:59.376283Z"
    },
    "papermill": {
     "duration": 0.043648,
     "end_time": "2022-11-30T05:28:59.380791",
     "exception": false,
     "start_time": "2022-11-30T05:28:59.337143",
     "status": "completed"
    },
    "tags": []
   },
   "outputs": [],
   "source": [
    "#Submitting the file\n",
    "outs.to_csv(r\"submission.csv\", index = False)"
   ]
  }
 ],
 "metadata": {
  "kernelspec": {
   "display_name": "Python 3",
   "language": "python",
   "name": "python3"
  },
  "language_info": {
   "codemirror_mode": {
    "name": "ipython",
    "version": 3
   },
   "file_extension": ".py",
   "mimetype": "text/x-python",
   "name": "python",
   "nbconvert_exporter": "python",
   "pygments_lexer": "ipython3",
   "version": "3.7.12"
  },
  "papermill": {
   "default_parameters": {},
   "duration": 17.787181,
   "end_time": "2022-11-30T05:29:00.230523",
   "environment_variables": {},
   "exception": null,
   "input_path": "__notebook__.ipynb",
   "output_path": "__notebook__.ipynb",
   "parameters": {},
   "start_time": "2022-11-30T05:28:42.443342",
   "version": "2.3.4"
  }
 },
 "nbformat": 4,
 "nbformat_minor": 5
}
